{
 "cells": [
  {
   "cell_type": "markdown",
   "metadata": {},
   "source": [
    "## Creating a smart model with feature engineering and tuning"
   ]
  },
  {
   "cell_type": "code",
   "execution_count": 1,
   "metadata": {},
   "outputs": [],
   "source": [
    "# imports\n",
    "from sklearn.model_selection import train_test_split\n",
    "from sklearn.preprocessing import StandardScaler\n",
    "from sklearn.metrics import mean_absolute_error, mean_squared_error, r2_score\n",
    "from joblib import dump\n",
    "import numpy as np\n",
    "import pandas as pd\n",
    "import tensorflow as tf\n",
    "import keras_tuner as kt\n",
    "import os"
   ]
  },
  {
   "cell_type": "code",
   "execution_count": 2,
   "metadata": {},
   "outputs": [
    {
     "data": {
      "text/html": [
       "<div>\n",
       "<style scoped>\n",
       "    .dataframe tbody tr th:only-of-type {\n",
       "        vertical-align: middle;\n",
       "    }\n",
       "\n",
       "    .dataframe tbody tr th {\n",
       "        vertical-align: top;\n",
       "    }\n",
       "\n",
       "    .dataframe thead th {\n",
       "        text-align: right;\n",
       "    }\n",
       "</style>\n",
       "<table border=\"1\" class=\"dataframe\">\n",
       "  <thead>\n",
       "    <tr style=\"text-align: right;\">\n",
       "      <th></th>\n",
       "      <th>ID</th>\n",
       "      <th>Price</th>\n",
       "      <th>Levy</th>\n",
       "      <th>Manufacturer</th>\n",
       "      <th>Model</th>\n",
       "      <th>Prod. year</th>\n",
       "      <th>Category</th>\n",
       "      <th>Leather interior</th>\n",
       "      <th>Fuel type</th>\n",
       "      <th>Engine volume</th>\n",
       "      <th>Mileage</th>\n",
       "      <th>Cylinders</th>\n",
       "      <th>Gear box type</th>\n",
       "      <th>Drive wheels</th>\n",
       "      <th>Doors</th>\n",
       "      <th>Wheel</th>\n",
       "      <th>Color</th>\n",
       "      <th>Airbags</th>\n",
       "    </tr>\n",
       "  </thead>\n",
       "  <tbody>\n",
       "    <tr>\n",
       "      <th>0</th>\n",
       "      <td>45654403</td>\n",
       "      <td>13328</td>\n",
       "      <td>1399</td>\n",
       "      <td>LEXUS</td>\n",
       "      <td>RX 450</td>\n",
       "      <td>2010</td>\n",
       "      <td>Jeep</td>\n",
       "      <td>Yes</td>\n",
       "      <td>Hybrid</td>\n",
       "      <td>3.5</td>\n",
       "      <td>186005 km</td>\n",
       "      <td>6.0</td>\n",
       "      <td>Automatic</td>\n",
       "      <td>4x4</td>\n",
       "      <td>04-May</td>\n",
       "      <td>Left wheel</td>\n",
       "      <td>Silver</td>\n",
       "      <td>12</td>\n",
       "    </tr>\n",
       "    <tr>\n",
       "      <th>1</th>\n",
       "      <td>44731507</td>\n",
       "      <td>16621</td>\n",
       "      <td>1018</td>\n",
       "      <td>CHEVROLET</td>\n",
       "      <td>Equinox</td>\n",
       "      <td>2011</td>\n",
       "      <td>Jeep</td>\n",
       "      <td>No</td>\n",
       "      <td>Petrol</td>\n",
       "      <td>3</td>\n",
       "      <td>192000 km</td>\n",
       "      <td>6.0</td>\n",
       "      <td>Tiptronic</td>\n",
       "      <td>4x4</td>\n",
       "      <td>04-May</td>\n",
       "      <td>Left wheel</td>\n",
       "      <td>Black</td>\n",
       "      <td>8</td>\n",
       "    </tr>\n",
       "    <tr>\n",
       "      <th>2</th>\n",
       "      <td>45774419</td>\n",
       "      <td>8467</td>\n",
       "      <td>-</td>\n",
       "      <td>HONDA</td>\n",
       "      <td>FIT</td>\n",
       "      <td>2006</td>\n",
       "      <td>Hatchback</td>\n",
       "      <td>No</td>\n",
       "      <td>Petrol</td>\n",
       "      <td>1.3</td>\n",
       "      <td>200000 km</td>\n",
       "      <td>4.0</td>\n",
       "      <td>Variator</td>\n",
       "      <td>Front</td>\n",
       "      <td>04-May</td>\n",
       "      <td>Right-hand drive</td>\n",
       "      <td>Black</td>\n",
       "      <td>2</td>\n",
       "    </tr>\n",
       "    <tr>\n",
       "      <th>3</th>\n",
       "      <td>45769185</td>\n",
       "      <td>3607</td>\n",
       "      <td>862</td>\n",
       "      <td>FORD</td>\n",
       "      <td>Escape</td>\n",
       "      <td>2011</td>\n",
       "      <td>Jeep</td>\n",
       "      <td>Yes</td>\n",
       "      <td>Hybrid</td>\n",
       "      <td>2.5</td>\n",
       "      <td>168966 km</td>\n",
       "      <td>4.0</td>\n",
       "      <td>Automatic</td>\n",
       "      <td>4x4</td>\n",
       "      <td>04-May</td>\n",
       "      <td>Left wheel</td>\n",
       "      <td>White</td>\n",
       "      <td>0</td>\n",
       "    </tr>\n",
       "    <tr>\n",
       "      <th>4</th>\n",
       "      <td>45809263</td>\n",
       "      <td>11726</td>\n",
       "      <td>446</td>\n",
       "      <td>HONDA</td>\n",
       "      <td>FIT</td>\n",
       "      <td>2014</td>\n",
       "      <td>Hatchback</td>\n",
       "      <td>Yes</td>\n",
       "      <td>Petrol</td>\n",
       "      <td>1.3</td>\n",
       "      <td>91901 km</td>\n",
       "      <td>4.0</td>\n",
       "      <td>Automatic</td>\n",
       "      <td>Front</td>\n",
       "      <td>04-May</td>\n",
       "      <td>Left wheel</td>\n",
       "      <td>Silver</td>\n",
       "      <td>4</td>\n",
       "    </tr>\n",
       "  </tbody>\n",
       "</table>\n",
       "</div>"
      ],
      "text/plain": [
       "         ID  Price  Levy Manufacturer    Model  Prod. year   Category  \\\n",
       "0  45654403  13328  1399        LEXUS   RX 450        2010       Jeep   \n",
       "1  44731507  16621  1018    CHEVROLET  Equinox        2011       Jeep   \n",
       "2  45774419   8467     -        HONDA      FIT        2006  Hatchback   \n",
       "3  45769185   3607   862         FORD   Escape        2011       Jeep   \n",
       "4  45809263  11726   446        HONDA      FIT        2014  Hatchback   \n",
       "\n",
       "  Leather interior Fuel type Engine volume    Mileage  Cylinders  \\\n",
       "0              Yes    Hybrid           3.5  186005 km        6.0   \n",
       "1               No    Petrol             3  192000 km        6.0   \n",
       "2               No    Petrol           1.3  200000 km        4.0   \n",
       "3              Yes    Hybrid           2.5  168966 km        4.0   \n",
       "4              Yes    Petrol           1.3   91901 km        4.0   \n",
       "\n",
       "  Gear box type Drive wheels   Doors             Wheel   Color  Airbags  \n",
       "0     Automatic          4x4  04-May        Left wheel  Silver       12  \n",
       "1     Tiptronic          4x4  04-May        Left wheel   Black        8  \n",
       "2      Variator        Front  04-May  Right-hand drive   Black        2  \n",
       "3     Automatic          4x4  04-May        Left wheel   White        0  \n",
       "4     Automatic        Front  04-May        Left wheel  Silver        4  "
      ]
     },
     "execution_count": 2,
     "metadata": {},
     "output_type": "execute_result"
    }
   ],
   "source": [
    "df = pd.read_csv(\"../../data/car_price_prediction.csv\")\n",
    "df.head()"
   ]
  },
  {
   "cell_type": "markdown",
   "metadata": {},
   "source": [
    "### Data Cleaning and Feature Engineering\n",
    "Going through each column to clean and create new features when necessary"
   ]
  },
  {
   "cell_type": "code",
   "execution_count": 3,
   "metadata": {},
   "outputs": [
    {
     "name": "stdout",
     "output_type": "stream",
     "text": [
      "<class 'pandas.core.frame.DataFrame'>\n",
      "RangeIndex: 19237 entries, 0 to 19236\n",
      "Data columns (total 18 columns):\n",
      " #   Column            Non-Null Count  Dtype  \n",
      "---  ------            --------------  -----  \n",
      " 0   ID                19237 non-null  int64  \n",
      " 1   Price             19237 non-null  int64  \n",
      " 2   Levy              19237 non-null  object \n",
      " 3   Manufacturer      19237 non-null  object \n",
      " 4   Model             19237 non-null  object \n",
      " 5   Prod. year        19237 non-null  int64  \n",
      " 6   Category          19237 non-null  object \n",
      " 7   Leather interior  19237 non-null  object \n",
      " 8   Fuel type         19237 non-null  object \n",
      " 9   Engine volume     19237 non-null  object \n",
      " 10  Mileage           19237 non-null  object \n",
      " 11  Cylinders         19237 non-null  float64\n",
      " 12  Gear box type     19237 non-null  object \n",
      " 13  Drive wheels      19237 non-null  object \n",
      " 14  Doors             19237 non-null  object \n",
      " 15  Wheel             19237 non-null  object \n",
      " 16  Color             19237 non-null  object \n",
      " 17  Airbags           19237 non-null  int64  \n",
      "dtypes: float64(1), int64(4), object(13)\n",
      "memory usage: 2.6+ MB\n"
     ]
    }
   ],
   "source": [
    "# viewing all of the columns and their types\n",
    "df.info()"
   ]
  },
  {
   "cell_type": "markdown",
   "metadata": {},
   "source": [
    "The ID column probably won't contain any valuable information for the model, but we can use it to see if there are any duplicate entries in the dataframe and remove them if there are"
   ]
  },
  {
   "cell_type": "code",
   "execution_count": 4,
   "metadata": {},
   "outputs": [
    {
     "data": {
      "text/plain": [
       "ID\n",
       "45815365    8\n",
       "45815361    8\n",
       "45815363    7\n",
       "45815368    7\n",
       "45723475    7\n",
       "           ..\n",
       "45774312    1\n",
       "45732621    1\n",
       "45773011    1\n",
       "45774019    1\n",
       "45813273    1\n",
       "Name: count, Length: 18924, dtype: int64"
      ]
     },
     "execution_count": 4,
     "metadata": {},
     "output_type": "execute_result"
    }
   ],
   "source": [
    "# viewing the number of times each ID shows up in the dataframe\n",
    "df[\"ID\"].value_counts()"
   ]
  },
  {
   "cell_type": "markdown",
   "metadata": {},
   "source": [
    "There are actually quite a few duplicate rows. They need to be removed."
   ]
  },
  {
   "cell_type": "code",
   "execution_count": 5,
   "metadata": {},
   "outputs": [
    {
     "name": "stdout",
     "output_type": "stream",
     "text": [
      "ID\n",
      "45654403    1\n",
      "45802973    1\n",
      "45769757    1\n",
      "45792992    1\n",
      "45776193    1\n",
      "           ..\n",
      "45659914    1\n",
      "45728551    1\n",
      "45758183    1\n",
      "45797245    1\n",
      "45813273    1\n",
      "Name: count, Length: 18924, dtype: int64\n"
     ]
    },
    {
     "data": {
      "text/html": [
       "<div>\n",
       "<style scoped>\n",
       "    .dataframe tbody tr th:only-of-type {\n",
       "        vertical-align: middle;\n",
       "    }\n",
       "\n",
       "    .dataframe tbody tr th {\n",
       "        vertical-align: top;\n",
       "    }\n",
       "\n",
       "    .dataframe thead th {\n",
       "        text-align: right;\n",
       "    }\n",
       "</style>\n",
       "<table border=\"1\" class=\"dataframe\">\n",
       "  <thead>\n",
       "    <tr style=\"text-align: right;\">\n",
       "      <th></th>\n",
       "      <th>Price</th>\n",
       "      <th>Levy</th>\n",
       "      <th>Manufacturer</th>\n",
       "      <th>Model</th>\n",
       "      <th>Prod. year</th>\n",
       "      <th>Category</th>\n",
       "      <th>Leather interior</th>\n",
       "      <th>Fuel type</th>\n",
       "      <th>Engine volume</th>\n",
       "      <th>Mileage</th>\n",
       "      <th>Cylinders</th>\n",
       "      <th>Gear box type</th>\n",
       "      <th>Drive wheels</th>\n",
       "      <th>Doors</th>\n",
       "      <th>Wheel</th>\n",
       "      <th>Color</th>\n",
       "      <th>Airbags</th>\n",
       "    </tr>\n",
       "  </thead>\n",
       "  <tbody>\n",
       "    <tr>\n",
       "      <th>0</th>\n",
       "      <td>13328</td>\n",
       "      <td>1399</td>\n",
       "      <td>LEXUS</td>\n",
       "      <td>RX 450</td>\n",
       "      <td>2010</td>\n",
       "      <td>Jeep</td>\n",
       "      <td>Yes</td>\n",
       "      <td>Hybrid</td>\n",
       "      <td>3.5</td>\n",
       "      <td>186005 km</td>\n",
       "      <td>6.0</td>\n",
       "      <td>Automatic</td>\n",
       "      <td>4x4</td>\n",
       "      <td>04-May</td>\n",
       "      <td>Left wheel</td>\n",
       "      <td>Silver</td>\n",
       "      <td>12</td>\n",
       "    </tr>\n",
       "    <tr>\n",
       "      <th>1</th>\n",
       "      <td>16621</td>\n",
       "      <td>1018</td>\n",
       "      <td>CHEVROLET</td>\n",
       "      <td>Equinox</td>\n",
       "      <td>2011</td>\n",
       "      <td>Jeep</td>\n",
       "      <td>No</td>\n",
       "      <td>Petrol</td>\n",
       "      <td>3</td>\n",
       "      <td>192000 km</td>\n",
       "      <td>6.0</td>\n",
       "      <td>Tiptronic</td>\n",
       "      <td>4x4</td>\n",
       "      <td>04-May</td>\n",
       "      <td>Left wheel</td>\n",
       "      <td>Black</td>\n",
       "      <td>8</td>\n",
       "    </tr>\n",
       "    <tr>\n",
       "      <th>2</th>\n",
       "      <td>8467</td>\n",
       "      <td>-</td>\n",
       "      <td>HONDA</td>\n",
       "      <td>FIT</td>\n",
       "      <td>2006</td>\n",
       "      <td>Hatchback</td>\n",
       "      <td>No</td>\n",
       "      <td>Petrol</td>\n",
       "      <td>1.3</td>\n",
       "      <td>200000 km</td>\n",
       "      <td>4.0</td>\n",
       "      <td>Variator</td>\n",
       "      <td>Front</td>\n",
       "      <td>04-May</td>\n",
       "      <td>Right-hand drive</td>\n",
       "      <td>Black</td>\n",
       "      <td>2</td>\n",
       "    </tr>\n",
       "    <tr>\n",
       "      <th>3</th>\n",
       "      <td>3607</td>\n",
       "      <td>862</td>\n",
       "      <td>FORD</td>\n",
       "      <td>Escape</td>\n",
       "      <td>2011</td>\n",
       "      <td>Jeep</td>\n",
       "      <td>Yes</td>\n",
       "      <td>Hybrid</td>\n",
       "      <td>2.5</td>\n",
       "      <td>168966 km</td>\n",
       "      <td>4.0</td>\n",
       "      <td>Automatic</td>\n",
       "      <td>4x4</td>\n",
       "      <td>04-May</td>\n",
       "      <td>Left wheel</td>\n",
       "      <td>White</td>\n",
       "      <td>0</td>\n",
       "    </tr>\n",
       "    <tr>\n",
       "      <th>4</th>\n",
       "      <td>11726</td>\n",
       "      <td>446</td>\n",
       "      <td>HONDA</td>\n",
       "      <td>FIT</td>\n",
       "      <td>2014</td>\n",
       "      <td>Hatchback</td>\n",
       "      <td>Yes</td>\n",
       "      <td>Petrol</td>\n",
       "      <td>1.3</td>\n",
       "      <td>91901 km</td>\n",
       "      <td>4.0</td>\n",
       "      <td>Automatic</td>\n",
       "      <td>Front</td>\n",
       "      <td>04-May</td>\n",
       "      <td>Left wheel</td>\n",
       "      <td>Silver</td>\n",
       "      <td>4</td>\n",
       "    </tr>\n",
       "  </tbody>\n",
       "</table>\n",
       "</div>"
      ],
      "text/plain": [
       "   Price  Levy Manufacturer    Model  Prod. year   Category Leather interior  \\\n",
       "0  13328  1399        LEXUS   RX 450        2010       Jeep              Yes   \n",
       "1  16621  1018    CHEVROLET  Equinox        2011       Jeep               No   \n",
       "2   8467     -        HONDA      FIT        2006  Hatchback               No   \n",
       "3   3607   862         FORD   Escape        2011       Jeep              Yes   \n",
       "4  11726   446        HONDA      FIT        2014  Hatchback              Yes   \n",
       "\n",
       "  Fuel type Engine volume    Mileage  Cylinders Gear box type Drive wheels  \\\n",
       "0    Hybrid           3.5  186005 km        6.0     Automatic          4x4   \n",
       "1    Petrol             3  192000 km        6.0     Tiptronic          4x4   \n",
       "2    Petrol           1.3  200000 km        4.0      Variator        Front   \n",
       "3    Hybrid           2.5  168966 km        4.0     Automatic          4x4   \n",
       "4    Petrol           1.3   91901 km        4.0     Automatic        Front   \n",
       "\n",
       "    Doors             Wheel   Color  Airbags  \n",
       "0  04-May        Left wheel  Silver       12  \n",
       "1  04-May        Left wheel   Black        8  \n",
       "2  04-May  Right-hand drive   Black        2  \n",
       "3  04-May        Left wheel   White        0  \n",
       "4  04-May        Left wheel  Silver        4  "
      ]
     },
     "execution_count": 5,
     "metadata": {},
     "output_type": "execute_result"
    }
   ],
   "source": [
    "# Removing duplicate rows\n",
    "# https://pandas.pydata.org/docs/reference/api/pandas.DataFrame.drop_duplicates.html\n",
    "df.drop_duplicates(subset=[\"ID\"], keep=\"first\", inplace=True)\n",
    "\n",
    "print(df[\"ID\"].value_counts())\n",
    "\n",
    "# dropping ID column\n",
    "df.drop(columns=[\"ID\"], inplace=True)\n",
    "df.head()"
   ]
  },
  {
   "cell_type": "code",
   "execution_count": 6,
   "metadata": {},
   "outputs": [
    {
     "data": {
      "text/html": [
       "<div>\n",
       "<style scoped>\n",
       "    .dataframe tbody tr th:only-of-type {\n",
       "        vertical-align: middle;\n",
       "    }\n",
       "\n",
       "    .dataframe tbody tr th {\n",
       "        vertical-align: top;\n",
       "    }\n",
       "\n",
       "    .dataframe thead th {\n",
       "        text-align: right;\n",
       "    }\n",
       "</style>\n",
       "<table border=\"1\" class=\"dataframe\">\n",
       "  <thead>\n",
       "    <tr style=\"text-align: right;\">\n",
       "      <th></th>\n",
       "      <th>Price</th>\n",
       "      <th>Levy</th>\n",
       "      <th>Manufacturer</th>\n",
       "      <th>Model</th>\n",
       "      <th>Prod. year</th>\n",
       "      <th>Category</th>\n",
       "      <th>Leather interior</th>\n",
       "      <th>Fuel type</th>\n",
       "      <th>Engine volume</th>\n",
       "      <th>Mileage</th>\n",
       "      <th>Cylinders</th>\n",
       "      <th>Gear box type</th>\n",
       "      <th>Drive wheels</th>\n",
       "      <th>Doors</th>\n",
       "      <th>Wheel</th>\n",
       "      <th>Color</th>\n",
       "      <th>Airbags</th>\n",
       "    </tr>\n",
       "  </thead>\n",
       "  <tbody>\n",
       "    <tr>\n",
       "      <th>7815</th>\n",
       "      <td>1</td>\n",
       "      <td>-</td>\n",
       "      <td>OPEL</td>\n",
       "      <td>Astra</td>\n",
       "      <td>1999</td>\n",
       "      <td>Sedan</td>\n",
       "      <td>Yes</td>\n",
       "      <td>Petrol</td>\n",
       "      <td>1.6</td>\n",
       "      <td>122231 km</td>\n",
       "      <td>4.0</td>\n",
       "      <td>Manual</td>\n",
       "      <td>Front</td>\n",
       "      <td>04-May</td>\n",
       "      <td>Left wheel</td>\n",
       "      <td>Silver</td>\n",
       "      <td>4</td>\n",
       "    </tr>\n",
       "    <tr>\n",
       "      <th>16992</th>\n",
       "      <td>1</td>\n",
       "      <td>1202</td>\n",
       "      <td>CHEVROLET</td>\n",
       "      <td>Lacetti</td>\n",
       "      <td>2006</td>\n",
       "      <td>Hatchback</td>\n",
       "      <td>No</td>\n",
       "      <td>Petrol</td>\n",
       "      <td>1.6</td>\n",
       "      <td>200000 km</td>\n",
       "      <td>4.0</td>\n",
       "      <td>Manual</td>\n",
       "      <td>Front</td>\n",
       "      <td>04-May</td>\n",
       "      <td>Left wheel</td>\n",
       "      <td>Black</td>\n",
       "      <td>2</td>\n",
       "    </tr>\n",
       "    <tr>\n",
       "      <th>753</th>\n",
       "      <td>3</td>\n",
       "      <td>-</td>\n",
       "      <td>NISSAN</td>\n",
       "      <td>X-Terra</td>\n",
       "      <td>2004</td>\n",
       "      <td>Jeep</td>\n",
       "      <td>No</td>\n",
       "      <td>Petrol</td>\n",
       "      <td>3.3</td>\n",
       "      <td>323200 km</td>\n",
       "      <td>6.0</td>\n",
       "      <td>Automatic</td>\n",
       "      <td>4x4</td>\n",
       "      <td>04-May</td>\n",
       "      <td>Left wheel</td>\n",
       "      <td>Black</td>\n",
       "      <td>2</td>\n",
       "    </tr>\n",
       "    <tr>\n",
       "      <th>15347</th>\n",
       "      <td>3</td>\n",
       "      <td>-</td>\n",
       "      <td>BMW</td>\n",
       "      <td>525</td>\n",
       "      <td>1995</td>\n",
       "      <td>Sedan</td>\n",
       "      <td>No</td>\n",
       "      <td>Petrol</td>\n",
       "      <td>2.8</td>\n",
       "      <td>2147483647 km</td>\n",
       "      <td>6.0</td>\n",
       "      <td>Manual</td>\n",
       "      <td>Rear</td>\n",
       "      <td>04-May</td>\n",
       "      <td>Left wheel</td>\n",
       "      <td>Black</td>\n",
       "      <td>3</td>\n",
       "    </tr>\n",
       "    <tr>\n",
       "      <th>9730</th>\n",
       "      <td>3</td>\n",
       "      <td>900</td>\n",
       "      <td>KIA</td>\n",
       "      <td>Sportage</td>\n",
       "      <td>2015</td>\n",
       "      <td>Jeep</td>\n",
       "      <td>No</td>\n",
       "      <td>Petrol</td>\n",
       "      <td>2.4</td>\n",
       "      <td>50345 km</td>\n",
       "      <td>4.0</td>\n",
       "      <td>Tiptronic</td>\n",
       "      <td>4x4</td>\n",
       "      <td>04-May</td>\n",
       "      <td>Left wheel</td>\n",
       "      <td>Blue</td>\n",
       "      <td>12</td>\n",
       "    </tr>\n",
       "    <tr>\n",
       "      <th>10885</th>\n",
       "      <td>3</td>\n",
       "      <td>-</td>\n",
       "      <td>CHEVROLET</td>\n",
       "      <td>Cruze</td>\n",
       "      <td>2018</td>\n",
       "      <td>Sedan</td>\n",
       "      <td>No</td>\n",
       "      <td>Petrol</td>\n",
       "      <td>1.4</td>\n",
       "      <td>61000 km</td>\n",
       "      <td>4.0</td>\n",
       "      <td>Tiptronic</td>\n",
       "      <td>Front</td>\n",
       "      <td>04-May</td>\n",
       "      <td>Left wheel</td>\n",
       "      <td>Grey</td>\n",
       "      <td>8</td>\n",
       "    </tr>\n",
       "    <tr>\n",
       "      <th>4776</th>\n",
       "      <td>3</td>\n",
       "      <td>810</td>\n",
       "      <td>VOLKSWAGEN</td>\n",
       "      <td>Jetta</td>\n",
       "      <td>2016</td>\n",
       "      <td>Sedan</td>\n",
       "      <td>Yes</td>\n",
       "      <td>Petrol</td>\n",
       "      <td>1.8 Turbo</td>\n",
       "      <td>41000 km</td>\n",
       "      <td>4.0</td>\n",
       "      <td>Automatic</td>\n",
       "      <td>Front</td>\n",
       "      <td>04-May</td>\n",
       "      <td>Left wheel</td>\n",
       "      <td>White</td>\n",
       "      <td>8</td>\n",
       "    </tr>\n",
       "    <tr>\n",
       "      <th>17596</th>\n",
       "      <td>3</td>\n",
       "      <td>-</td>\n",
       "      <td>HYUNDAI</td>\n",
       "      <td>Sonata</td>\n",
       "      <td>2011</td>\n",
       "      <td>Sedan</td>\n",
       "      <td>Yes</td>\n",
       "      <td>Petrol</td>\n",
       "      <td>2.4</td>\n",
       "      <td>106422 km</td>\n",
       "      <td>4.0</td>\n",
       "      <td>Tiptronic</td>\n",
       "      <td>Front</td>\n",
       "      <td>04-May</td>\n",
       "      <td>Left wheel</td>\n",
       "      <td>White</td>\n",
       "      <td>6</td>\n",
       "    </tr>\n",
       "    <tr>\n",
       "      <th>5890</th>\n",
       "      <td>3</td>\n",
       "      <td>-</td>\n",
       "      <td>MERCEDES-BENZ</td>\n",
       "      <td>CLK 230</td>\n",
       "      <td>2004</td>\n",
       "      <td>Coupe</td>\n",
       "      <td>Yes</td>\n",
       "      <td>Petrol</td>\n",
       "      <td>2.3</td>\n",
       "      <td>328000 km</td>\n",
       "      <td>4.0</td>\n",
       "      <td>Manual</td>\n",
       "      <td>Rear</td>\n",
       "      <td>02-Mar</td>\n",
       "      <td>Left wheel</td>\n",
       "      <td>Blue</td>\n",
       "      <td>0</td>\n",
       "    </tr>\n",
       "    <tr>\n",
       "      <th>11636</th>\n",
       "      <td>3</td>\n",
       "      <td>-</td>\n",
       "      <td>MERCEDES-BENZ</td>\n",
       "      <td>C 220</td>\n",
       "      <td>1998</td>\n",
       "      <td>Sedan</td>\n",
       "      <td>No</td>\n",
       "      <td>Diesel</td>\n",
       "      <td>2.2</td>\n",
       "      <td>20600 km</td>\n",
       "      <td>4.0</td>\n",
       "      <td>Manual</td>\n",
       "      <td>Rear</td>\n",
       "      <td>04-May</td>\n",
       "      <td>Left wheel</td>\n",
       "      <td>Black</td>\n",
       "      <td>2</td>\n",
       "    </tr>\n",
       "  </tbody>\n",
       "</table>\n",
       "</div>"
      ],
      "text/plain": [
       "       Price  Levy   Manufacturer     Model  Prod. year   Category  \\\n",
       "7815       1     -           OPEL     Astra        1999      Sedan   \n",
       "16992      1  1202      CHEVROLET   Lacetti        2006  Hatchback   \n",
       "753        3     -         NISSAN   X-Terra        2004       Jeep   \n",
       "15347      3     -            BMW       525        1995      Sedan   \n",
       "9730       3   900            KIA  Sportage        2015       Jeep   \n",
       "10885      3     -      CHEVROLET     Cruze        2018      Sedan   \n",
       "4776       3   810     VOLKSWAGEN     Jetta        2016      Sedan   \n",
       "17596      3     -        HYUNDAI    Sonata        2011      Sedan   \n",
       "5890       3     -  MERCEDES-BENZ   CLK 230        2004      Coupe   \n",
       "11636      3     -  MERCEDES-BENZ     C 220        1998      Sedan   \n",
       "\n",
       "      Leather interior Fuel type Engine volume        Mileage  Cylinders  \\\n",
       "7815               Yes    Petrol           1.6      122231 km        4.0   \n",
       "16992               No    Petrol           1.6      200000 km        4.0   \n",
       "753                 No    Petrol           3.3      323200 km        6.0   \n",
       "15347               No    Petrol           2.8  2147483647 km        6.0   \n",
       "9730                No    Petrol           2.4       50345 km        4.0   \n",
       "10885               No    Petrol           1.4       61000 km        4.0   \n",
       "4776               Yes    Petrol     1.8 Turbo       41000 km        4.0   \n",
       "17596              Yes    Petrol           2.4      106422 km        4.0   \n",
       "5890               Yes    Petrol           2.3      328000 km        4.0   \n",
       "11636               No    Diesel           2.2       20600 km        4.0   \n",
       "\n",
       "      Gear box type Drive wheels   Doors       Wheel   Color  Airbags  \n",
       "7815         Manual        Front  04-May  Left wheel  Silver        4  \n",
       "16992        Manual        Front  04-May  Left wheel   Black        2  \n",
       "753       Automatic          4x4  04-May  Left wheel   Black        2  \n",
       "15347        Manual         Rear  04-May  Left wheel   Black        3  \n",
       "9730      Tiptronic          4x4  04-May  Left wheel    Blue       12  \n",
       "10885     Tiptronic        Front  04-May  Left wheel    Grey        8  \n",
       "4776      Automatic        Front  04-May  Left wheel   White        8  \n",
       "17596     Tiptronic        Front  04-May  Left wheel   White        6  \n",
       "5890         Manual         Rear  02-Mar  Left wheel    Blue        0  \n",
       "11636        Manual         Rear  04-May  Left wheel   Black        2  "
      ]
     },
     "execution_count": 6,
     "metadata": {},
     "output_type": "execute_result"
    }
   ],
   "source": [
    "# viewing the smallest price cars\n",
    "df.sort_values(by=\"Price\", ascending=True).head(10)"
   ]
  },
  {
   "cell_type": "markdown",
   "metadata": {},
   "source": [
    "There are some extremely low prices in this dataset. This is not realistic. I will remove every car that costs less than $500."
   ]
  },
  {
   "cell_type": "code",
   "execution_count": 7,
   "metadata": {},
   "outputs": [
    {
     "data": {
      "text/html": [
       "<div>\n",
       "<style scoped>\n",
       "    .dataframe tbody tr th:only-of-type {\n",
       "        vertical-align: middle;\n",
       "    }\n",
       "\n",
       "    .dataframe tbody tr th {\n",
       "        vertical-align: top;\n",
       "    }\n",
       "\n",
       "    .dataframe thead th {\n",
       "        text-align: right;\n",
       "    }\n",
       "</style>\n",
       "<table border=\"1\" class=\"dataframe\">\n",
       "  <thead>\n",
       "    <tr style=\"text-align: right;\">\n",
       "      <th></th>\n",
       "      <th>Price</th>\n",
       "      <th>Levy</th>\n",
       "      <th>Manufacturer</th>\n",
       "      <th>Model</th>\n",
       "      <th>Prod. year</th>\n",
       "      <th>Category</th>\n",
       "      <th>Leather interior</th>\n",
       "      <th>Fuel type</th>\n",
       "      <th>Engine volume</th>\n",
       "      <th>Mileage</th>\n",
       "      <th>Cylinders</th>\n",
       "      <th>Gear box type</th>\n",
       "      <th>Drive wheels</th>\n",
       "      <th>Doors</th>\n",
       "      <th>Wheel</th>\n",
       "      <th>Color</th>\n",
       "      <th>Airbags</th>\n",
       "    </tr>\n",
       "  </thead>\n",
       "  <tbody>\n",
       "    <tr>\n",
       "      <th>19194</th>\n",
       "      <td>500</td>\n",
       "      <td>-</td>\n",
       "      <td>FORD</td>\n",
       "      <td>Transit</td>\n",
       "      <td>1998</td>\n",
       "      <td>Microbus</td>\n",
       "      <td>No</td>\n",
       "      <td>Diesel</td>\n",
       "      <td>2.5</td>\n",
       "      <td>760000 km</td>\n",
       "      <td>4.0</td>\n",
       "      <td>Manual</td>\n",
       "      <td>Rear</td>\n",
       "      <td>04-May</td>\n",
       "      <td>Left wheel</td>\n",
       "      <td>White</td>\n",
       "      <td>2</td>\n",
       "    </tr>\n",
       "    <tr>\n",
       "      <th>13706</th>\n",
       "      <td>500</td>\n",
       "      <td>-</td>\n",
       "      <td>NISSAN</td>\n",
       "      <td>Tiida</td>\n",
       "      <td>2007</td>\n",
       "      <td>Hatchback</td>\n",
       "      <td>Yes</td>\n",
       "      <td>Petrol</td>\n",
       "      <td>1.8</td>\n",
       "      <td>0 km</td>\n",
       "      <td>4.0</td>\n",
       "      <td>Variator</td>\n",
       "      <td>Front</td>\n",
       "      <td>04-May</td>\n",
       "      <td>Right-hand drive</td>\n",
       "      <td>Grey</td>\n",
       "      <td>6</td>\n",
       "    </tr>\n",
       "    <tr>\n",
       "      <th>15334</th>\n",
       "      <td>549</td>\n",
       "      <td>831</td>\n",
       "      <td>FORD</td>\n",
       "      <td>Fiesta</td>\n",
       "      <td>2017</td>\n",
       "      <td>Hatchback</td>\n",
       "      <td>Yes</td>\n",
       "      <td>Petrol</td>\n",
       "      <td>1.6</td>\n",
       "      <td>96088 km</td>\n",
       "      <td>4.0</td>\n",
       "      <td>Automatic</td>\n",
       "      <td>Front</td>\n",
       "      <td>04-May</td>\n",
       "      <td>Left wheel</td>\n",
       "      <td>White</td>\n",
       "      <td>12</td>\n",
       "    </tr>\n",
       "    <tr>\n",
       "      <th>2393</th>\n",
       "      <td>549</td>\n",
       "      <td>1017</td>\n",
       "      <td>HYUNDAI</td>\n",
       "      <td>Elantra</td>\n",
       "      <td>2017</td>\n",
       "      <td>Sedan</td>\n",
       "      <td>Yes</td>\n",
       "      <td>Petrol</td>\n",
       "      <td>2</td>\n",
       "      <td>87357 km</td>\n",
       "      <td>4.0</td>\n",
       "      <td>Automatic</td>\n",
       "      <td>Front</td>\n",
       "      <td>04-May</td>\n",
       "      <td>Left wheel</td>\n",
       "      <td>Blue</td>\n",
       "      <td>12</td>\n",
       "    </tr>\n",
       "    <tr>\n",
       "      <th>8124</th>\n",
       "      <td>549</td>\n",
       "      <td>915</td>\n",
       "      <td>AUDI</td>\n",
       "      <td>100</td>\n",
       "      <td>2014</td>\n",
       "      <td>Jeep</td>\n",
       "      <td>Yes</td>\n",
       "      <td>Petrol</td>\n",
       "      <td>3</td>\n",
       "      <td>143392 km</td>\n",
       "      <td>6.0</td>\n",
       "      <td>Automatic</td>\n",
       "      <td>4x4</td>\n",
       "      <td>04-May</td>\n",
       "      <td>Left wheel</td>\n",
       "      <td>Black</td>\n",
       "      <td>12</td>\n",
       "    </tr>\n",
       "  </tbody>\n",
       "</table>\n",
       "</div>"
      ],
      "text/plain": [
       "       Price  Levy Manufacturer    Model  Prod. year   Category  \\\n",
       "19194    500     -         FORD  Transit        1998   Microbus   \n",
       "13706    500     -       NISSAN    Tiida        2007  Hatchback   \n",
       "15334    549   831         FORD   Fiesta        2017  Hatchback   \n",
       "2393     549  1017      HYUNDAI  Elantra        2017      Sedan   \n",
       "8124     549   915         AUDI      100        2014       Jeep   \n",
       "\n",
       "      Leather interior Fuel type Engine volume    Mileage  Cylinders  \\\n",
       "19194               No    Diesel           2.5  760000 km        4.0   \n",
       "13706              Yes    Petrol           1.8       0 km        4.0   \n",
       "15334              Yes    Petrol           1.6   96088 km        4.0   \n",
       "2393               Yes    Petrol             2   87357 km        4.0   \n",
       "8124               Yes    Petrol             3  143392 km        6.0   \n",
       "\n",
       "      Gear box type Drive wheels   Doors             Wheel  Color  Airbags  \n",
       "19194        Manual         Rear  04-May        Left wheel  White        2  \n",
       "13706      Variator        Front  04-May  Right-hand drive   Grey        6  \n",
       "15334     Automatic        Front  04-May        Left wheel  White       12  \n",
       "2393      Automatic        Front  04-May        Left wheel   Blue       12  \n",
       "8124      Automatic          4x4  04-May        Left wheel  Black       12  "
      ]
     },
     "execution_count": 7,
     "metadata": {},
     "output_type": "execute_result"
    }
   ],
   "source": [
    "# dropping rows where price is less than 500\n",
    "# https://stackoverflow.com/questions/13851535/how-to-delete-rows-from-a-pandas-dataframe-based-on-a-conditional-expression\n",
    "df.drop(df[df[\"Price\"] < 500].index, inplace=True)\n",
    "\n",
    "# viewing the smallest price cars\n",
    "df.sort_values(by=\"Price\", ascending=True).head()"
   ]
  },
  {
   "cell_type": "markdown",
   "metadata": {},
   "source": [
    "Now I will do the same with the cars that are the most expensive."
   ]
  },
  {
   "cell_type": "code",
   "execution_count": 8,
   "metadata": {},
   "outputs": [
    {
     "data": {
      "text/html": [
       "<div>\n",
       "<style scoped>\n",
       "    .dataframe tbody tr th:only-of-type {\n",
       "        vertical-align: middle;\n",
       "    }\n",
       "\n",
       "    .dataframe tbody tr th {\n",
       "        vertical-align: top;\n",
       "    }\n",
       "\n",
       "    .dataframe thead th {\n",
       "        text-align: right;\n",
       "    }\n",
       "</style>\n",
       "<table border=\"1\" class=\"dataframe\">\n",
       "  <thead>\n",
       "    <tr style=\"text-align: right;\">\n",
       "      <th></th>\n",
       "      <th>Price</th>\n",
       "      <th>Levy</th>\n",
       "      <th>Manufacturer</th>\n",
       "      <th>Model</th>\n",
       "      <th>Prod. year</th>\n",
       "      <th>Category</th>\n",
       "      <th>Leather interior</th>\n",
       "      <th>Fuel type</th>\n",
       "      <th>Engine volume</th>\n",
       "      <th>Mileage</th>\n",
       "      <th>Cylinders</th>\n",
       "      <th>Gear box type</th>\n",
       "      <th>Drive wheels</th>\n",
       "      <th>Doors</th>\n",
       "      <th>Wheel</th>\n",
       "      <th>Color</th>\n",
       "      <th>Airbags</th>\n",
       "    </tr>\n",
       "  </thead>\n",
       "  <tbody>\n",
       "    <tr>\n",
       "      <th>16983</th>\n",
       "      <td>26307500</td>\n",
       "      <td>-</td>\n",
       "      <td>OPEL</td>\n",
       "      <td>Combo</td>\n",
       "      <td>1999</td>\n",
       "      <td>Goods wagon</td>\n",
       "      <td>No</td>\n",
       "      <td>Diesel</td>\n",
       "      <td>1.7</td>\n",
       "      <td>99999 km</td>\n",
       "      <td>4.0</td>\n",
       "      <td>Manual</td>\n",
       "      <td>Front</td>\n",
       "      <td>02-Mar</td>\n",
       "      <td>Left wheel</td>\n",
       "      <td>Blue</td>\n",
       "      <td>0</td>\n",
       "    </tr>\n",
       "    <tr>\n",
       "      <th>8541</th>\n",
       "      <td>872946</td>\n",
       "      <td>2067</td>\n",
       "      <td>LAMBORGHINI</td>\n",
       "      <td>Urus</td>\n",
       "      <td>2019</td>\n",
       "      <td>Universal</td>\n",
       "      <td>Yes</td>\n",
       "      <td>Petrol</td>\n",
       "      <td>4</td>\n",
       "      <td>2531 km</td>\n",
       "      <td>8.0</td>\n",
       "      <td>Tiptronic</td>\n",
       "      <td>4x4</td>\n",
       "      <td>04-May</td>\n",
       "      <td>Left wheel</td>\n",
       "      <td>Black</td>\n",
       "      <td>0</td>\n",
       "    </tr>\n",
       "    <tr>\n",
       "      <th>1225</th>\n",
       "      <td>627220</td>\n",
       "      <td>-</td>\n",
       "      <td>MERCEDES-BENZ</td>\n",
       "      <td>G 65 AMG 63AMG</td>\n",
       "      <td>2020</td>\n",
       "      <td>Jeep</td>\n",
       "      <td>Yes</td>\n",
       "      <td>Petrol</td>\n",
       "      <td>6.3 Turbo</td>\n",
       "      <td>0 km</td>\n",
       "      <td>8.0</td>\n",
       "      <td>Tiptronic</td>\n",
       "      <td>4x4</td>\n",
       "      <td>04-May</td>\n",
       "      <td>Left wheel</td>\n",
       "      <td>Black</td>\n",
       "      <td>12</td>\n",
       "    </tr>\n",
       "    <tr>\n",
       "      <th>5008</th>\n",
       "      <td>308906</td>\n",
       "      <td>1694</td>\n",
       "      <td>PORSCHE</td>\n",
       "      <td>911</td>\n",
       "      <td>2016</td>\n",
       "      <td>Coupe</td>\n",
       "      <td>Yes</td>\n",
       "      <td>Petrol</td>\n",
       "      <td>4</td>\n",
       "      <td>8690 km</td>\n",
       "      <td>6.0</td>\n",
       "      <td>Automatic</td>\n",
       "      <td>Rear</td>\n",
       "      <td>02-Mar</td>\n",
       "      <td>Left wheel</td>\n",
       "      <td>Black</td>\n",
       "      <td>12</td>\n",
       "    </tr>\n",
       "    <tr>\n",
       "      <th>9367</th>\n",
       "      <td>297930</td>\n",
       "      <td>-</td>\n",
       "      <td>MERCEDES-BENZ</td>\n",
       "      <td>AMG GT S</td>\n",
       "      <td>2015</td>\n",
       "      <td>Coupe</td>\n",
       "      <td>Yes</td>\n",
       "      <td>Petrol</td>\n",
       "      <td>4.0 Turbo</td>\n",
       "      <td>20000 km</td>\n",
       "      <td>8.0</td>\n",
       "      <td>Tiptronic</td>\n",
       "      <td>Rear</td>\n",
       "      <td>02-Mar</td>\n",
       "      <td>Left wheel</td>\n",
       "      <td>White</td>\n",
       "      <td>16</td>\n",
       "    </tr>\n",
       "  </tbody>\n",
       "</table>\n",
       "</div>"
      ],
      "text/plain": [
       "          Price  Levy   Manufacturer           Model  Prod. year     Category  \\\n",
       "16983  26307500     -           OPEL           Combo        1999  Goods wagon   \n",
       "8541     872946  2067    LAMBORGHINI            Urus        2019    Universal   \n",
       "1225     627220     -  MERCEDES-BENZ  G 65 AMG 63AMG        2020         Jeep   \n",
       "5008     308906  1694        PORSCHE             911        2016        Coupe   \n",
       "9367     297930     -  MERCEDES-BENZ        AMG GT S        2015        Coupe   \n",
       "\n",
       "      Leather interior Fuel type Engine volume   Mileage  Cylinders  \\\n",
       "16983               No    Diesel           1.7  99999 km        4.0   \n",
       "8541               Yes    Petrol             4   2531 km        8.0   \n",
       "1225               Yes    Petrol     6.3 Turbo      0 km        8.0   \n",
       "5008               Yes    Petrol             4   8690 km        6.0   \n",
       "9367               Yes    Petrol     4.0 Turbo  20000 km        8.0   \n",
       "\n",
       "      Gear box type Drive wheels   Doors       Wheel  Color  Airbags  \n",
       "16983        Manual        Front  02-Mar  Left wheel   Blue        0  \n",
       "8541      Tiptronic          4x4  04-May  Left wheel  Black        0  \n",
       "1225      Tiptronic          4x4  04-May  Left wheel  Black       12  \n",
       "5008      Automatic         Rear  02-Mar  Left wheel  Black       12  \n",
       "9367      Tiptronic         Rear  02-Mar  Left wheel  White       16  "
      ]
     },
     "execution_count": 8,
     "metadata": {},
     "output_type": "execute_result"
    }
   ],
   "source": [
    "df.sort_values(by=\"Price\", ascending=False).head()"
   ]
  },
  {
   "cell_type": "markdown",
   "metadata": {},
   "source": [
    "$26 million seems excessive for this dataset, so it will removed"
   ]
  },
  {
   "cell_type": "code",
   "execution_count": 9,
   "metadata": {},
   "outputs": [],
   "source": [
    "# dropping rows where the price is over $1 million\n",
    "df.drop(df[df[\"Price\"] > 1000000].index, inplace=True)"
   ]
  },
  {
   "cell_type": "code",
   "execution_count": 10,
   "metadata": {},
   "outputs": [
    {
     "data": {
      "text/plain": [
       "Levy\n",
       "-       5346\n",
       "765      471\n",
       "891      447\n",
       "639      395\n",
       "640      366\n",
       "        ... \n",
       "3156       1\n",
       "2908       1\n",
       "1719       1\n",
       "4283       1\n",
       "1045       1\n",
       "Name: count, Length: 545, dtype: int64"
      ]
     },
     "execution_count": 10,
     "metadata": {},
     "output_type": "execute_result"
    }
   ],
   "source": [
    "# viewing Levy value counts\n",
    "df[\"Levy\"].value_counts()"
   ]
  },
  {
   "cell_type": "markdown",
   "metadata": {},
   "source": [
    "There are a large amount of columns where the Levy is null. We will turn these into 0."
   ]
  },
  {
   "cell_type": "code",
   "execution_count": 11,
   "metadata": {},
   "outputs": [
    {
     "data": {
      "text/plain": [
       "Levy\n",
       "0       5346\n",
       "765      471\n",
       "891      447\n",
       "639      395\n",
       "640      366\n",
       "        ... \n",
       "3156       1\n",
       "2908       1\n",
       "1719       1\n",
       "4283       1\n",
       "1045       1\n",
       "Name: count, Length: 545, dtype: int64"
      ]
     },
     "execution_count": 11,
     "metadata": {},
     "output_type": "execute_result"
    }
   ],
   "source": [
    "# Replacing the Levy column with 0 if there is \"-\"\n",
    "df[\"Levy\"] = df[\"Levy\"].map(lambda x: 0 if x == \"-\" else x).astype(\"int64\")\n",
    "df[\"Levy\"].value_counts()"
   ]
  },
  {
   "cell_type": "code",
   "execution_count": 12,
   "metadata": {},
   "outputs": [
    {
     "data": {
      "text/plain": [
       "[('HYUNDAI', 3589),\n",
       " ('TOYOTA', 3150),\n",
       " ('MERCEDES-BENZ', 1785),\n",
       " ('CHEVROLET', 985),\n",
       " ('FORD', 972),\n",
       " ('BMW', 971),\n",
       " ('HONDA', 844),\n",
       " ('LEXUS', 756),\n",
       " ('NISSAN', 577),\n",
       " ('VOLKSWAGEN', 550),\n",
       " ('SSANGYONG', 439),\n",
       " ('KIA', 395),\n",
       " ('OPEL', 391),\n",
       " ('MITSUBISHI', 278),\n",
       " ('SUBARU', 251),\n",
       " ('AUDI', 230),\n",
       " ('MAZDA', 155),\n",
       " ('JEEP', 132),\n",
       " ('DAEWOO', 91),\n",
       " ('DODGE', 85),\n",
       " ('SUZUKI', 73),\n",
       " ('FIAT', 70),\n",
       " ('PORSCHE', 49),\n",
       " ('LAND ROVER', 48),\n",
       " ('VAZ', 47),\n",
       " ('MINI', 45),\n",
       " ('JAGUAR', 37),\n",
       " ('RENAULT', 36),\n",
       " ('INFINITI', 24),\n",
       " ('CHRYSLER', 23),\n",
       " ('SKODA', 20),\n",
       " ('VOLVO', 17),\n",
       " ('PEUGEOT', 17),\n",
       " ('BUICK', 14),\n",
       " ('GMC', 13),\n",
       " ('DAIHATSU', 13),\n",
       " ('UAZ', 12),\n",
       " ('CADILLAC', 12),\n",
       " ('ACURA', 11),\n",
       " ('LINCOLN', 11),\n",
       " ('GAZ', 11),\n",
       " ('CITROEN', 9),\n",
       " ('SCION', 7),\n",
       " ('ALFA ROMEO', 4),\n",
       " ('HUMMER', 4),\n",
       " ('ISUZU', 4),\n",
       " ('MERCURY', 4),\n",
       " ('MASERATI', 3),\n",
       " ('MOSKVICH', 3),\n",
       " ('ROVER', 3),\n",
       " ('BENTLEY', 2),\n",
       " ('SAAB', 2),\n",
       " ('FERRARI', 2),\n",
       " ('SEAT', 2),\n",
       " ('ZAZ', 2),\n",
       " ('სხვა', 2),\n",
       " ('LANCIA', 1),\n",
       " ('TESLA', 1),\n",
       " ('HAVAL', 1),\n",
       " ('LAMBORGHINI', 1),\n",
       " ('PONTIAC', 1),\n",
       " ('SATURN', 1),\n",
       " ('ASTON MARTIN', 1),\n",
       " ('GREATWALL', 1)]"
      ]
     },
     "execution_count": 12,
     "metadata": {},
     "output_type": "execute_result"
    }
   ],
   "source": [
    "# viewing the amounts of Manufacturers\n",
    "list(df[\"Manufacturer\"].value_counts().items())"
   ]
  },
  {
   "cell_type": "markdown",
   "metadata": {},
   "source": [
    "64 columns of manufacturers is a bit excessive, but it is important information. To reduce the number of columns, I will replace any manufacturer with less than 45 entries with \"Other\"."
   ]
  },
  {
   "cell_type": "code",
   "execution_count": 13,
   "metadata": {},
   "outputs": [
    {
     "name": "stdout",
     "output_type": "stream",
     "text": [
      "26\n"
     ]
    },
    {
     "data": {
      "text/plain": [
       "Manufacturer\n",
       "HYUNDAI          3589\n",
       "TOYOTA           3150\n",
       "MERCEDES-BENZ    1785\n",
       "CHEVROLET         985\n",
       "FORD              972\n",
       "BMW               971\n",
       "HONDA             844\n",
       "LEXUS             756\n",
       "NISSAN            577\n",
       "VOLKSWAGEN        550\n",
       "SSANGYONG         439\n",
       "KIA               395\n",
       "OPEL              391\n",
       "Other             377\n",
       "MITSUBISHI        278\n",
       "SUBARU            251\n",
       "AUDI              230\n",
       "MAZDA             155\n",
       "JEEP              132\n",
       "DAEWOO             91\n",
       "DODGE              85\n",
       "SUZUKI             73\n",
       "FIAT               70\n",
       "PORSCHE            49\n",
       "LAND ROVER         48\n",
       "VAZ                47\n",
       "Name: count, dtype: int64"
      ]
     },
     "execution_count": 13,
     "metadata": {},
     "output_type": "execute_result"
    }
   ],
   "source": [
    "# save manufacturer value counts as a dictionary\n",
    "manufacturer_counts = dict(df[\"Manufacturer\"].value_counts())\n",
    "\n",
    "# changing the Manufacturer column to \"Other\" for any entry with a manufacturer that has less than 45 entries\n",
    "df[\"Manufacturer\"] = df[\"Manufacturer\"].map(lambda x: x if manufacturer_counts[x] > 45 else \"Other\")\n",
    "\n",
    "print(len(df[\"Manufacturer\"].value_counts()))\n",
    "df[\"Manufacturer\"].value_counts()"
   ]
  },
  {
   "cell_type": "markdown",
   "metadata": {},
   "source": [
    "26 is still a lot, but definitely more manageable. Considering that manufacturer is critical information, I am okay with it."
   ]
  },
  {
   "cell_type": "code",
   "execution_count": 14,
   "metadata": {},
   "outputs": [
    {
     "name": "stdout",
     "output_type": "stream",
     "text": [
      "1567\n"
     ]
    },
    {
     "data": {
      "text/plain": [
       "Model\n",
       "Sonata                    987\n",
       "Prius                     901\n",
       "Elantra                   871\n",
       "Camry                     784\n",
       "Santa FE                  522\n",
       "                         ... \n",
       "Musa                        1\n",
       "1500,1600 Schtufenheck      1\n",
       "E 420                       1\n",
       "C 250 luxury                1\n",
       "Prius C aqua                1\n",
       "Name: count, Length: 1567, dtype: int64"
      ]
     },
     "execution_count": 14,
     "metadata": {},
     "output_type": "execute_result"
    }
   ],
   "source": [
    "print(len(df[\"Model\"].value_counts()))\n",
    "df[\"Model\"].value_counts()"
   ]
  },
  {
   "cell_type": "markdown",
   "metadata": {},
   "source": [
    "1567 is way too many. I think car model is too specific of information. I am just going to remove this column"
   ]
  },
  {
   "cell_type": "code",
   "execution_count": 15,
   "metadata": {},
   "outputs": [],
   "source": [
    "df.drop(columns=[\"Model\"], inplace=True)"
   ]
  },
  {
   "cell_type": "code",
   "execution_count": 16,
   "metadata": {},
   "outputs": [
    {
     "data": {
      "text/plain": [
       "Prod. year\n",
       "2014    1929\n",
       "2012    1910\n",
       "2013    1729\n",
       "2015    1420\n",
       "2016    1394\n",
       "2011    1370\n",
       "2010    1315\n",
       "2017     817\n",
       "2008     630\n",
       "2009     559\n",
       "2018     460\n",
       "2007     426\n",
       "2005     353\n",
       "2004     332\n",
       "2003     331\n",
       "2006     286\n",
       "2002     270\n",
       "2000     270\n",
       "2019     254\n",
       "2001     245\n",
       "1998     203\n",
       "1999     202\n",
       "1997     149\n",
       "1996     108\n",
       "1995     101\n",
       "2020      44\n",
       "1994      41\n",
       "1992      30\n",
       "1993      22\n",
       "1990      18\n",
       "1988      12\n",
       "1991      10\n",
       "1989       6\n",
       "1986       6\n",
       "1985       5\n",
       "1987       5\n",
       "1984       5\n",
       "1953       3\n",
       "1983       3\n",
       "1964       2\n",
       "1977       2\n",
       "1978       2\n",
       "1965       2\n",
       "1980       2\n",
       "1974       1\n",
       "1943       1\n",
       "1957       1\n",
       "1968       1\n",
       "1982       1\n",
       "1981       1\n",
       "1973       1\n",
       "Name: count, dtype: int64"
      ]
     },
     "execution_count": 16,
     "metadata": {},
     "output_type": "execute_result"
    }
   ],
   "source": [
    "df[\"Prod. year\"].value_counts()"
   ]
  },
  {
   "cell_type": "markdown",
   "metadata": {},
   "source": [
    "Production year looks fine, so I will leave it alone."
   ]
  },
  {
   "cell_type": "code",
   "execution_count": 17,
   "metadata": {},
   "outputs": [
    {
     "data": {
      "text/plain": [
       "Category\n",
       "Sedan          7867\n",
       "Jeep           4855\n",
       "Hatchback      2489\n",
       "Minivan         611\n",
       "Coupe           506\n",
       "Universal       361\n",
       "Microbus        290\n",
       "Goods wagon     225\n",
       "Pickup           47\n",
       "Cabriolet        33\n",
       "Limousine         6\n",
       "Name: count, dtype: int64"
      ]
     },
     "execution_count": 17,
     "metadata": {},
     "output_type": "execute_result"
    }
   ],
   "source": [
    "df[\"Category\"].value_counts()"
   ]
  },
  {
   "cell_type": "markdown",
   "metadata": {},
   "source": [
    "There are 11 categories. I think this is okay, so I will leave this column alone as well."
   ]
  },
  {
   "cell_type": "code",
   "execution_count": 18,
   "metadata": {},
   "outputs": [
    {
     "data": {
      "text/plain": [
       "Leather interior\n",
       "Yes    12348\n",
       "No      4942\n",
       "Name: count, dtype: int64"
      ]
     },
     "execution_count": 18,
     "metadata": {},
     "output_type": "execute_result"
    }
   ],
   "source": [
    "df[\"Leather interior\"].value_counts()"
   ]
  },
  {
   "cell_type": "markdown",
   "metadata": {},
   "source": [
    "Leather interior needs to be converted to a Boolean."
   ]
  },
  {
   "cell_type": "code",
   "execution_count": 19,
   "metadata": {},
   "outputs": [
    {
     "data": {
      "text/plain": [
       "Leather interior\n",
       "1    12348\n",
       "0     4942\n",
       "Name: count, dtype: int64"
      ]
     },
     "execution_count": 19,
     "metadata": {},
     "output_type": "execute_result"
    }
   ],
   "source": [
    "# converting Leather interior to 0 if No, 1 if Yes\n",
    "df[\"Leather interior\"] = df[\"Leather interior\"].map(lambda x: 0 if x == \"No\" else 1)\n",
    "df[\"Leather interior\"].value_counts()"
   ]
  },
  {
   "cell_type": "code",
   "execution_count": 20,
   "metadata": {},
   "outputs": [
    {
     "data": {
      "text/plain": [
       "Fuel type\n",
       "Petrol            9135\n",
       "Diesel            3814\n",
       "Hybrid            2926\n",
       "LPG                868\n",
       "CNG                461\n",
       "Plug-in Hybrid      85\n",
       "Hydrogen             1\n",
       "Name: count, dtype: int64"
      ]
     },
     "execution_count": 20,
     "metadata": {},
     "output_type": "execute_result"
    }
   ],
   "source": [
    "df[\"Fuel type\"].value_counts()"
   ]
  },
  {
   "cell_type": "markdown",
   "metadata": {},
   "source": [
    "I am going to combine plug-in hybrid with hybrid and remove the hydrogen car."
   ]
  },
  {
   "cell_type": "code",
   "execution_count": 21,
   "metadata": {},
   "outputs": [
    {
     "data": {
      "text/plain": [
       "Fuel type\n",
       "Petrol    9135\n",
       "Diesel    3814\n",
       "Hybrid    3011\n",
       "LPG        868\n",
       "CNG        461\n",
       "Name: count, dtype: int64"
      ]
     },
     "execution_count": 21,
     "metadata": {},
     "output_type": "execute_result"
    }
   ],
   "source": [
    "# drop the row with the Hydrogen car\n",
    "df.drop(df[df[\"Fuel type\"] == \"Hydrogen\"].index, inplace=True)\n",
    "\n",
    "# convert the rows with \"Plug-in Hybrid\" to Hybrid\n",
    "df[\"Fuel type\"] = df[\"Fuel type\"].map(lambda x: \"Hybrid\" if x == \"Plug-in Hybrid\" else x)\n",
    "\n",
    "df[\"Fuel type\"].value_counts()"
   ]
  },
  {
   "cell_type": "markdown",
   "metadata": {},
   "source": [
    "The Engine volume column is a string for some reason. I need to investigate why."
   ]
  },
  {
   "cell_type": "code",
   "execution_count": 22,
   "metadata": {},
   "outputs": [
    {
     "data": {
      "text/plain": [
       "[('2', 3648),\n",
       " ('2.5', 2024),\n",
       " ('1.8', 1556),\n",
       " ('1.6', 1397),\n",
       " ('1.5', 1174),\n",
       " ('3.5', 979),\n",
       " ('2.4', 848),\n",
       " ('3', 720),\n",
       " ('1.3', 421),\n",
       " ('2.0 Turbo', 403),\n",
       " ('1.4', 319),\n",
       " ('4.6', 310),\n",
       " ('3.0 Turbo', 257),\n",
       " ('2.2', 221),\n",
       " ('2.2 Turbo', 210),\n",
       " ('1.8 Turbo', 170),\n",
       " ('3.3', 164),\n",
       " ('1.4 Turbo', 154),\n",
       " ('1.7', 149),\n",
       " ('3.2', 143),\n",
       " ('2.7', 121),\n",
       " ('1.6 Turbo', 116),\n",
       " ('1', 115),\n",
       " ('3.6', 105),\n",
       " ('2.3', 105),\n",
       " ('1.2', 100),\n",
       " ('4', 94),\n",
       " ('2.5 Turbo', 90),\n",
       " ('4.7', 81),\n",
       " ('3.7', 67),\n",
       " ('4.4', 67),\n",
       " ('5', 64),\n",
       " ('1.5 Turbo', 63),\n",
       " ('2.8', 57),\n",
       " ('5.5', 48),\n",
       " ('2.4 Turbo', 48),\n",
       " ('2.7 Turbo', 46),\n",
       " ('5.7', 38),\n",
       " ('1.9', 38),\n",
       " ('1.7 Turbo', 38),\n",
       " ('3.5 Turbo', 35),\n",
       " ('3.8', 32),\n",
       " ('4.8', 32),\n",
       " ('1.9 Turbo', 31),\n",
       " ('4.4 Turbo', 24),\n",
       " ('3.2 Turbo', 23),\n",
       " ('0.7', 19),\n",
       " ('1.3 Turbo', 18),\n",
       " ('2.6', 18),\n",
       " ('4.7 Turbo', 18),\n",
       " ('4.2', 16),\n",
       " ('2.3 Turbo', 16),\n",
       " ('2.8 Turbo', 12),\n",
       " ('4.3', 12),\n",
       " ('4.5', 12),\n",
       " ('2.9 Turbo', 12),\n",
       " ('5.5 Turbo', 11),\n",
       " ('2.9', 9),\n",
       " ('6.2', 8),\n",
       " ('0.8', 8),\n",
       " ('0.2', 8),\n",
       " ('1.0 Turbo', 8),\n",
       " ('5.3', 8),\n",
       " ('1.1', 8),\n",
       " ('4.5 Turbo', 7),\n",
       " ('0.4', 7),\n",
       " ('0', 7),\n",
       " ('2.1', 7),\n",
       " ('0.7 Turbo', 6),\n",
       " ('3.4', 6),\n",
       " ('5.6', 5),\n",
       " ('3.6 Turbo', 5),\n",
       " ('6', 4),\n",
       " ('1.2 Turbo', 4),\n",
       " ('5.0 Turbo', 4),\n",
       " ('6.3', 4),\n",
       " ('5.4', 4),\n",
       " ('4.6 Turbo', 4),\n",
       " ('0.1', 3),\n",
       " ('0.6', 3),\n",
       " ('0.6 Turbo', 3),\n",
       " ('6.3 Turbo', 3),\n",
       " ('2.1 Turbo', 3),\n",
       " ('5.9', 3),\n",
       " ('4.0 Turbo', 3),\n",
       " ('4.8 Turbo', 2),\n",
       " ('0.3', 2),\n",
       " ('20', 2),\n",
       " ('4.2 Turbo', 2),\n",
       " ('0.9', 2),\n",
       " ('6.4', 2),\n",
       " ('5.4 Turbo', 1),\n",
       " ('5.2', 1),\n",
       " ('0.4 Turbo', 1),\n",
       " ('5.8', 1),\n",
       " ('5.7 Turbo', 1),\n",
       " ('3.9', 1),\n",
       " ('0.3 Turbo', 1),\n",
       " ('3.7 Turbo', 1),\n",
       " ('3.1', 1),\n",
       " ('0.8 Turbo', 1),\n",
       " ('7.3', 1),\n",
       " ('6.8', 1),\n",
       " ('6.7', 1),\n",
       " ('0.2 Turbo', 1),\n",
       " ('0.5', 1),\n",
       " ('1.1 Turbo', 1)]"
      ]
     },
     "execution_count": 22,
     "metadata": {},
     "output_type": "execute_result"
    }
   ],
   "source": [
    "list(df[\"Engine volume\"].value_counts().items())"
   ]
  },
  {
   "cell_type": "markdown",
   "metadata": {},
   "source": [
    "It looks like some of the entries in this column contain the word \"Turbo\" at the end of them. To fix this, I will make \"Turbo\" a new Boolean column and remove the word \"Turbo\" from the Fuel Type column and convert it to a float."
   ]
  },
  {
   "cell_type": "code",
   "execution_count": 23,
   "metadata": {},
   "outputs": [
    {
     "data": {
      "text/plain": [
       "count    17289.000000\n",
       "mean         2.286043\n",
       "std          0.858194\n",
       "min          0.000000\n",
       "25%          1.800000\n",
       "50%          2.000000\n",
       "75%          2.500000\n",
       "max         20.000000\n",
       "Name: Engine volume, dtype: float64"
      ]
     },
     "execution_count": 23,
     "metadata": {},
     "output_type": "execute_result"
    }
   ],
   "source": [
    "# add a new \"Turbo\" column based. This is done by performing a split on whitespace for the values in the Engine volume column\n",
    "# If the length of the split is 2, then Turbo = 1, else 0\n",
    "df[\"Turbo\"] = df[\"Engine volume\"].map(lambda x: 1 if len(x.split(\" \")) == 2 else 0)\n",
    "\n",
    "# removing the word \"Turbo\" from the Engine volume column\n",
    "df[\"Engine volume\"] = df[\"Engine volume\"].map(lambda x: x.split(\" \")[0]).astype(\"float64\")\n",
    "\n",
    "df[\"Engine volume\"].describe()"
   ]
  },
  {
   "cell_type": "markdown",
   "metadata": {},
   "source": [
    "The Mileage column needs to be converted to integers. Every entry has \"km\" at the end of it. This needs to be removed."
   ]
  },
  {
   "cell_type": "code",
   "execution_count": 24,
   "metadata": {},
   "outputs": [
    {
     "data": {
      "text/plain": [
       "count    1.728900e+04\n",
       "mean     1.497713e+06\n",
       "std      4.763519e+07\n",
       "min      0.000000e+00\n",
       "25%      7.000500e+04\n",
       "50%      1.249120e+05\n",
       "75%      1.853340e+05\n",
       "max      2.147484e+09\n",
       "Name: Mileage, dtype: float64"
      ]
     },
     "execution_count": 24,
     "metadata": {},
     "output_type": "execute_result"
    }
   ],
   "source": [
    "df[\"Mileage\"] = df[\"Mileage\"].map(lambda x: x.split(\" \")[0]).astype(\"int64\")\n",
    "df[\"Mileage\"].describe()"
   ]
  },
  {
   "cell_type": "code",
   "execution_count": 25,
   "metadata": {},
   "outputs": [
    {
     "name": "stdout",
     "output_type": "stream",
     "text": [
      "17115    0\n",
      "4711     0\n",
      "12507    0\n",
      "8743     0\n",
      "3615     0\n",
      "Name: Mileage, dtype: int64\n",
      "12734    2147483647\n",
      "15393    2147483647\n",
      "19167    2147483647\n",
      "11901    2147483647\n",
      "6157     2147483647\n",
      "2278     2147483647\n",
      "17582    1777777778\n",
      "7724     1234567899\n",
      "19199    1111111111\n",
      "12904     999999999\n",
      "Name: Mileage, dtype: int64\n"
     ]
    }
   ],
   "source": [
    "print(df[\"Mileage\"].sort_values(ascending=True).head())\n",
    "print(df[\"Mileage\"].sort_values(ascending=False).head(10))"
   ]
  },
  {
   "cell_type": "markdown",
   "metadata": {},
   "source": [
    "There appears to be a few cars with insanely large Mileage values. These need to be removed. I will choose 450,000 km as a generous cutoff value. Based on a few Google searches, this seems to be around unrealistic territory without removing too many rows."
   ]
  },
  {
   "cell_type": "code",
   "execution_count": 26,
   "metadata": {},
   "outputs": [
    {
     "name": "stdout",
     "output_type": "stream",
     "text": [
      "9574     0\n",
      "1097     0\n",
      "2997     0\n",
      "14002    0\n",
      "5529     0\n",
      "Name: Mileage, dtype: int64\n",
      "7549     450000\n",
      "1148     450000\n",
      "10171    448982\n",
      "10683    448982\n",
      "2319     448982\n",
      "Name: Mileage, dtype: int64\n"
     ]
    }
   ],
   "source": [
    "# removing rows where mileage is greater than 450000\n",
    "df.drop(df[df[\"Mileage\"] > 450000].index, inplace=True)\n",
    "print(df[\"Mileage\"].sort_values(ascending=True).head())\n",
    "print(df[\"Mileage\"].sort_values(ascending=False).head())"
   ]
  },
  {
   "cell_type": "code",
   "execution_count": 27,
   "metadata": {},
   "outputs": [
    {
     "data": {
      "text/plain": [
       "Cylinders\n",
       "4.0     12825\n",
       "6.0      2926\n",
       "8.0       832\n",
       "5.0       153\n",
       "3.0       105\n",
       "2.0        38\n",
       "12.0       35\n",
       "1.0        32\n",
       "10.0       11\n",
       "16.0        5\n",
       "7.0         2\n",
       "9.0         1\n",
       "14.0        1\n",
       "Name: count, dtype: int64"
      ]
     },
     "execution_count": 27,
     "metadata": {},
     "output_type": "execute_result"
    }
   ],
   "source": [
    "df[\"Cylinders\"].value_counts()"
   ]
  },
  {
   "cell_type": "markdown",
   "metadata": {},
   "source": [
    "The Cylinders column looks fine."
   ]
  },
  {
   "cell_type": "code",
   "execution_count": 28,
   "metadata": {},
   "outputs": [
    {
     "data": {
      "text/plain": [
       "Gear box type\n",
       "Automatic    11556\n",
       "Tiptronic     2971\n",
       "Manual        1745\n",
       "Variator       694\n",
       "Name: count, dtype: int64"
      ]
     },
     "execution_count": 28,
     "metadata": {},
     "output_type": "execute_result"
    }
   ],
   "source": [
    "df[\"Gear box type\"].value_counts()"
   ]
  },
  {
   "cell_type": "markdown",
   "metadata": {},
   "source": [
    "Gear box type looks fine as well"
   ]
  },
  {
   "cell_type": "code",
   "execution_count": 29,
   "metadata": {},
   "outputs": [
    {
     "data": {
      "text/plain": [
       "Drive wheels\n",
       "Front    11514\n",
       "4x4       3398\n",
       "Rear      2054\n",
       "Name: count, dtype: int64"
      ]
     },
     "execution_count": 29,
     "metadata": {},
     "output_type": "execute_result"
    }
   ],
   "source": [
    "df[\"Drive wheels\"].value_counts()"
   ]
  },
  {
   "cell_type": "markdown",
   "metadata": {},
   "source": [
    "Drive wheels looks good, too."
   ]
  },
  {
   "cell_type": "code",
   "execution_count": 30,
   "metadata": {},
   "outputs": [
    {
     "data": {
      "text/plain": [
       "Wheel\n",
       "Left wheel          15667\n",
       "Right-hand drive     1299\n",
       "Name: count, dtype: int64"
      ]
     },
     "execution_count": 30,
     "metadata": {},
     "output_type": "execute_result"
    }
   ],
   "source": [
    "df[\"Wheel\"].value_counts()"
   ]
  },
  {
   "cell_type": "markdown",
   "metadata": {},
   "source": [
    "I don't think that the car driving on the left side of the road or the right side of the road would affect the price in a major way. I am going to remove this column."
   ]
  },
  {
   "cell_type": "code",
   "execution_count": 31,
   "metadata": {},
   "outputs": [],
   "source": [
    "# removing \"Wheel\" column\n",
    "df.drop(columns=[\"Wheel\"], inplace=True)"
   ]
  },
  {
   "cell_type": "markdown",
   "metadata": {},
   "source": [
    "Dropping the Doors column as well"
   ]
  },
  {
   "cell_type": "code",
   "execution_count": 32,
   "metadata": {},
   "outputs": [],
   "source": [
    "df.drop(columns=[\"Doors\"], inplace=True)"
   ]
  },
  {
   "cell_type": "code",
   "execution_count": 33,
   "metadata": {},
   "outputs": [
    {
     "data": {
      "text/plain": [
       "Color\n",
       "Black            4435\n",
       "White            3926\n",
       "Silver           3386\n",
       "Grey             2098\n",
       "Blue             1260\n",
       "Red               577\n",
       "Green             290\n",
       "Carnelian red     168\n",
       "Brown             161\n",
       "Golden            140\n",
       "Beige             126\n",
       "Orange            119\n",
       "Sky blue          115\n",
       "Yellow            104\n",
       "Purple             37\n",
       "Pink               24\n",
       "Name: count, dtype: int64"
      ]
     },
     "execution_count": 33,
     "metadata": {},
     "output_type": "execute_result"
    }
   ],
   "source": [
    "df[\"Color\"].value_counts()"
   ]
  },
  {
   "cell_type": "markdown",
   "metadata": {},
   "source": [
    "There are quite a lot of colors. I am going to group every color with less than 1,000 entries as \"Other\"."
   ]
  },
  {
   "cell_type": "code",
   "execution_count": 34,
   "metadata": {},
   "outputs": [
    {
     "data": {
      "text/plain": [
       "Color\n",
       "Black     4435\n",
       "White     3926\n",
       "Silver    3386\n",
       "Grey      2098\n",
       "Other     1861\n",
       "Blue      1260\n",
       "Name: count, dtype: int64"
      ]
     },
     "execution_count": 34,
     "metadata": {},
     "output_type": "execute_result"
    }
   ],
   "source": [
    "# creating dictionary of value counts of car colors\n",
    "color_counts = dict(df[\"Color\"].value_counts())\n",
    "\n",
    "# converting \"Color\" to \"Other\" for rows with a color that appears less than 1000 time in the dataframe\n",
    "df[\"Color\"] = df[\"Color\"].map(lambda x: x if color_counts[x] > 1000 else \"Other\")\n",
    "\n",
    "df[\"Color\"].value_counts()"
   ]
  },
  {
   "cell_type": "code",
   "execution_count": 35,
   "metadata": {},
   "outputs": [
    {
     "data": {
      "text/plain": [
       "count    16966.000000\n",
       "mean         6.498055\n",
       "std          4.215080\n",
       "min          0.000000\n",
       "25%          4.000000\n",
       "50%          5.000000\n",
       "75%         12.000000\n",
       "max         16.000000\n",
       "Name: Airbags, dtype: float64"
      ]
     },
     "execution_count": 35,
     "metadata": {},
     "output_type": "execute_result"
    }
   ],
   "source": [
    "df[\"Airbags\"].describe()"
   ]
  },
  {
   "cell_type": "markdown",
   "metadata": {},
   "source": [
    "Airbags look fine."
   ]
  },
  {
   "cell_type": "markdown",
   "metadata": {},
   "source": [
    "Alright, the dataframe should be clean and ready to have the categorical columns be encoded."
   ]
  },
  {
   "cell_type": "code",
   "execution_count": 36,
   "metadata": {},
   "outputs": [
    {
     "data": {
      "text/html": [
       "<div>\n",
       "<style scoped>\n",
       "    .dataframe tbody tr th:only-of-type {\n",
       "        vertical-align: middle;\n",
       "    }\n",
       "\n",
       "    .dataframe tbody tr th {\n",
       "        vertical-align: top;\n",
       "    }\n",
       "\n",
       "    .dataframe thead th {\n",
       "        text-align: right;\n",
       "    }\n",
       "</style>\n",
       "<table border=\"1\" class=\"dataframe\">\n",
       "  <thead>\n",
       "    <tr style=\"text-align: right;\">\n",
       "      <th></th>\n",
       "      <th>Price</th>\n",
       "      <th>Levy</th>\n",
       "      <th>Manufacturer</th>\n",
       "      <th>Prod. year</th>\n",
       "      <th>Category</th>\n",
       "      <th>Leather interior</th>\n",
       "      <th>Fuel type</th>\n",
       "      <th>Engine volume</th>\n",
       "      <th>Mileage</th>\n",
       "      <th>Cylinders</th>\n",
       "      <th>Gear box type</th>\n",
       "      <th>Drive wheels</th>\n",
       "      <th>Color</th>\n",
       "      <th>Airbags</th>\n",
       "      <th>Turbo</th>\n",
       "    </tr>\n",
       "  </thead>\n",
       "  <tbody>\n",
       "    <tr>\n",
       "      <th>0</th>\n",
       "      <td>13328</td>\n",
       "      <td>1399</td>\n",
       "      <td>LEXUS</td>\n",
       "      <td>2010</td>\n",
       "      <td>Jeep</td>\n",
       "      <td>1</td>\n",
       "      <td>Hybrid</td>\n",
       "      <td>3.5</td>\n",
       "      <td>186005</td>\n",
       "      <td>6.0</td>\n",
       "      <td>Automatic</td>\n",
       "      <td>4x4</td>\n",
       "      <td>Silver</td>\n",
       "      <td>12</td>\n",
       "      <td>0</td>\n",
       "    </tr>\n",
       "    <tr>\n",
       "      <th>1</th>\n",
       "      <td>16621</td>\n",
       "      <td>1018</td>\n",
       "      <td>CHEVROLET</td>\n",
       "      <td>2011</td>\n",
       "      <td>Jeep</td>\n",
       "      <td>0</td>\n",
       "      <td>Petrol</td>\n",
       "      <td>3.0</td>\n",
       "      <td>192000</td>\n",
       "      <td>6.0</td>\n",
       "      <td>Tiptronic</td>\n",
       "      <td>4x4</td>\n",
       "      <td>Black</td>\n",
       "      <td>8</td>\n",
       "      <td>0</td>\n",
       "    </tr>\n",
       "    <tr>\n",
       "      <th>2</th>\n",
       "      <td>8467</td>\n",
       "      <td>0</td>\n",
       "      <td>HONDA</td>\n",
       "      <td>2006</td>\n",
       "      <td>Hatchback</td>\n",
       "      <td>0</td>\n",
       "      <td>Petrol</td>\n",
       "      <td>1.3</td>\n",
       "      <td>200000</td>\n",
       "      <td>4.0</td>\n",
       "      <td>Variator</td>\n",
       "      <td>Front</td>\n",
       "      <td>Black</td>\n",
       "      <td>2</td>\n",
       "      <td>0</td>\n",
       "    </tr>\n",
       "    <tr>\n",
       "      <th>3</th>\n",
       "      <td>3607</td>\n",
       "      <td>862</td>\n",
       "      <td>FORD</td>\n",
       "      <td>2011</td>\n",
       "      <td>Jeep</td>\n",
       "      <td>1</td>\n",
       "      <td>Hybrid</td>\n",
       "      <td>2.5</td>\n",
       "      <td>168966</td>\n",
       "      <td>4.0</td>\n",
       "      <td>Automatic</td>\n",
       "      <td>4x4</td>\n",
       "      <td>White</td>\n",
       "      <td>0</td>\n",
       "      <td>0</td>\n",
       "    </tr>\n",
       "    <tr>\n",
       "      <th>4</th>\n",
       "      <td>11726</td>\n",
       "      <td>446</td>\n",
       "      <td>HONDA</td>\n",
       "      <td>2014</td>\n",
       "      <td>Hatchback</td>\n",
       "      <td>1</td>\n",
       "      <td>Petrol</td>\n",
       "      <td>1.3</td>\n",
       "      <td>91901</td>\n",
       "      <td>4.0</td>\n",
       "      <td>Automatic</td>\n",
       "      <td>Front</td>\n",
       "      <td>Silver</td>\n",
       "      <td>4</td>\n",
       "      <td>0</td>\n",
       "    </tr>\n",
       "  </tbody>\n",
       "</table>\n",
       "</div>"
      ],
      "text/plain": [
       "   Price  Levy Manufacturer  Prod. year   Category  Leather interior  \\\n",
       "0  13328  1399        LEXUS        2010       Jeep                 1   \n",
       "1  16621  1018    CHEVROLET        2011       Jeep                 0   \n",
       "2   8467     0        HONDA        2006  Hatchback                 0   \n",
       "3   3607   862         FORD        2011       Jeep                 1   \n",
       "4  11726   446        HONDA        2014  Hatchback                 1   \n",
       "\n",
       "  Fuel type  Engine volume  Mileage  Cylinders Gear box type Drive wheels  \\\n",
       "0    Hybrid            3.5   186005        6.0     Automatic          4x4   \n",
       "1    Petrol            3.0   192000        6.0     Tiptronic          4x4   \n",
       "2    Petrol            1.3   200000        4.0      Variator        Front   \n",
       "3    Hybrid            2.5   168966        4.0     Automatic          4x4   \n",
       "4    Petrol            1.3    91901        4.0     Automatic        Front   \n",
       "\n",
       "    Color  Airbags  Turbo  \n",
       "0  Silver       12      0  \n",
       "1   Black        8      0  \n",
       "2   Black        2      0  \n",
       "3   White        0      0  \n",
       "4  Silver        4      0  "
      ]
     },
     "execution_count": 36,
     "metadata": {},
     "output_type": "execute_result"
    }
   ],
   "source": [
    "df.head()"
   ]
  },
  {
   "cell_type": "code",
   "execution_count": 37,
   "metadata": {},
   "outputs": [
    {
     "data": {
      "text/html": [
       "<div>\n",
       "<style scoped>\n",
       "    .dataframe tbody tr th:only-of-type {\n",
       "        vertical-align: middle;\n",
       "    }\n",
       "\n",
       "    .dataframe tbody tr th {\n",
       "        vertical-align: top;\n",
       "    }\n",
       "\n",
       "    .dataframe thead th {\n",
       "        text-align: right;\n",
       "    }\n",
       "</style>\n",
       "<table border=\"1\" class=\"dataframe\">\n",
       "  <thead>\n",
       "    <tr style=\"text-align: right;\">\n",
       "      <th></th>\n",
       "      <th>Price</th>\n",
       "      <th>Levy</th>\n",
       "      <th>Prod. year</th>\n",
       "      <th>Leather interior</th>\n",
       "      <th>Engine volume</th>\n",
       "      <th>Mileage</th>\n",
       "      <th>Cylinders</th>\n",
       "      <th>Airbags</th>\n",
       "      <th>Turbo</th>\n",
       "      <th>Manufacturer_AUDI</th>\n",
       "      <th>...</th>\n",
       "      <th>Gear box type_Variator</th>\n",
       "      <th>Drive wheels_4x4</th>\n",
       "      <th>Drive wheels_Front</th>\n",
       "      <th>Drive wheels_Rear</th>\n",
       "      <th>Color_Black</th>\n",
       "      <th>Color_Blue</th>\n",
       "      <th>Color_Grey</th>\n",
       "      <th>Color_Other</th>\n",
       "      <th>Color_Silver</th>\n",
       "      <th>Color_White</th>\n",
       "    </tr>\n",
       "  </thead>\n",
       "  <tbody>\n",
       "    <tr>\n",
       "      <th>0</th>\n",
       "      <td>13328</td>\n",
       "      <td>1399</td>\n",
       "      <td>2010</td>\n",
       "      <td>1</td>\n",
       "      <td>3.5</td>\n",
       "      <td>186005</td>\n",
       "      <td>6.0</td>\n",
       "      <td>12</td>\n",
       "      <td>0</td>\n",
       "      <td>0</td>\n",
       "      <td>...</td>\n",
       "      <td>0</td>\n",
       "      <td>1</td>\n",
       "      <td>0</td>\n",
       "      <td>0</td>\n",
       "      <td>0</td>\n",
       "      <td>0</td>\n",
       "      <td>0</td>\n",
       "      <td>0</td>\n",
       "      <td>1</td>\n",
       "      <td>0</td>\n",
       "    </tr>\n",
       "    <tr>\n",
       "      <th>1</th>\n",
       "      <td>16621</td>\n",
       "      <td>1018</td>\n",
       "      <td>2011</td>\n",
       "      <td>0</td>\n",
       "      <td>3.0</td>\n",
       "      <td>192000</td>\n",
       "      <td>6.0</td>\n",
       "      <td>8</td>\n",
       "      <td>0</td>\n",
       "      <td>0</td>\n",
       "      <td>...</td>\n",
       "      <td>0</td>\n",
       "      <td>1</td>\n",
       "      <td>0</td>\n",
       "      <td>0</td>\n",
       "      <td>1</td>\n",
       "      <td>0</td>\n",
       "      <td>0</td>\n",
       "      <td>0</td>\n",
       "      <td>0</td>\n",
       "      <td>0</td>\n",
       "    </tr>\n",
       "    <tr>\n",
       "      <th>2</th>\n",
       "      <td>8467</td>\n",
       "      <td>0</td>\n",
       "      <td>2006</td>\n",
       "      <td>0</td>\n",
       "      <td>1.3</td>\n",
       "      <td>200000</td>\n",
       "      <td>4.0</td>\n",
       "      <td>2</td>\n",
       "      <td>0</td>\n",
       "      <td>0</td>\n",
       "      <td>...</td>\n",
       "      <td>1</td>\n",
       "      <td>0</td>\n",
       "      <td>1</td>\n",
       "      <td>0</td>\n",
       "      <td>1</td>\n",
       "      <td>0</td>\n",
       "      <td>0</td>\n",
       "      <td>0</td>\n",
       "      <td>0</td>\n",
       "      <td>0</td>\n",
       "    </tr>\n",
       "    <tr>\n",
       "      <th>3</th>\n",
       "      <td>3607</td>\n",
       "      <td>862</td>\n",
       "      <td>2011</td>\n",
       "      <td>1</td>\n",
       "      <td>2.5</td>\n",
       "      <td>168966</td>\n",
       "      <td>4.0</td>\n",
       "      <td>0</td>\n",
       "      <td>0</td>\n",
       "      <td>0</td>\n",
       "      <td>...</td>\n",
       "      <td>0</td>\n",
       "      <td>1</td>\n",
       "      <td>0</td>\n",
       "      <td>0</td>\n",
       "      <td>0</td>\n",
       "      <td>0</td>\n",
       "      <td>0</td>\n",
       "      <td>0</td>\n",
       "      <td>0</td>\n",
       "      <td>1</td>\n",
       "    </tr>\n",
       "    <tr>\n",
       "      <th>4</th>\n",
       "      <td>11726</td>\n",
       "      <td>446</td>\n",
       "      <td>2014</td>\n",
       "      <td>1</td>\n",
       "      <td>1.3</td>\n",
       "      <td>91901</td>\n",
       "      <td>4.0</td>\n",
       "      <td>4</td>\n",
       "      <td>0</td>\n",
       "      <td>0</td>\n",
       "      <td>...</td>\n",
       "      <td>0</td>\n",
       "      <td>0</td>\n",
       "      <td>1</td>\n",
       "      <td>0</td>\n",
       "      <td>0</td>\n",
       "      <td>0</td>\n",
       "      <td>0</td>\n",
       "      <td>0</td>\n",
       "      <td>1</td>\n",
       "      <td>0</td>\n",
       "    </tr>\n",
       "  </tbody>\n",
       "</table>\n",
       "<p>5 rows × 64 columns</p>\n",
       "</div>"
      ],
      "text/plain": [
       "   Price  Levy  Prod. year  Leather interior  Engine volume  Mileage  \\\n",
       "0  13328  1399        2010                 1            3.5   186005   \n",
       "1  16621  1018        2011                 0            3.0   192000   \n",
       "2   8467     0        2006                 0            1.3   200000   \n",
       "3   3607   862        2011                 1            2.5   168966   \n",
       "4  11726   446        2014                 1            1.3    91901   \n",
       "\n",
       "   Cylinders  Airbags  Turbo  Manufacturer_AUDI  ...  Gear box type_Variator  \\\n",
       "0        6.0       12      0                  0  ...                       0   \n",
       "1        6.0        8      0                  0  ...                       0   \n",
       "2        4.0        2      0                  0  ...                       1   \n",
       "3        4.0        0      0                  0  ...                       0   \n",
       "4        4.0        4      0                  0  ...                       0   \n",
       "\n",
       "   Drive wheels_4x4  Drive wheels_Front  Drive wheels_Rear  Color_Black  \\\n",
       "0                 1                   0                  0            0   \n",
       "1                 1                   0                  0            1   \n",
       "2                 0                   1                  0            1   \n",
       "3                 1                   0                  0            0   \n",
       "4                 0                   1                  0            0   \n",
       "\n",
       "   Color_Blue  Color_Grey  Color_Other  Color_Silver  Color_White  \n",
       "0           0           0            0             1            0  \n",
       "1           0           0            0             0            0  \n",
       "2           0           0            0             0            0  \n",
       "3           0           0            0             0            1  \n",
       "4           0           0            0             1            0  \n",
       "\n",
       "[5 rows x 64 columns]"
      ]
     },
     "execution_count": 37,
     "metadata": {},
     "output_type": "execute_result"
    }
   ],
   "source": [
    "df_dummy = pd.get_dummies(df, columns=[\"Manufacturer\", \"Category\", \"Fuel type\", \"Gear box type\", \"Drive wheels\", \"Color\"], dtype=\"int64\")\n",
    "df_dummy.head()"
   ]
  },
  {
   "cell_type": "markdown",
   "metadata": {},
   "source": [
    "### Creating the Model"
   ]
  },
  {
   "cell_type": "code",
   "execution_count": 38,
   "metadata": {},
   "outputs": [],
   "source": [
    "# split preprocessed data into features and target arrays\n",
    "y = df_dummy[\"Price\"]\n",
    "X = df_dummy.drop([\"Price\"], axis=1)\n",
    "\n",
    "# split this further into testing and training sets\n",
    "X_train, X_test, y_train, y_test = train_test_split(X, y)"
   ]
  },
  {
   "cell_type": "code",
   "execution_count": 39,
   "metadata": {},
   "outputs": [],
   "source": [
    "# create a scaler for X\n",
    "scaler = StandardScaler()\n",
    "\n",
    "# fit the scaler\n",
    "X_scaler = scaler.fit(X_train)\n",
    "\n",
    "# scale the X data\n",
    "X_train_scaled = X_scaler.transform(X_train)\n",
    "X_test_scaled = X_scaler.transform(X_test)\n",
    "\n",
    "# reshape y\n",
    "y_train = np.array(y_train).reshape(-1, 1)\n",
    "y_test = np.array(y_test).reshape(-1, 1)\n",
    "\n",
    "# create a scaler for y\n",
    "y_scaler = scaler.fit(y_train)\n",
    "\n",
    "# scale the y data\n",
    "y_train_scaled = y_scaler.transform(y_train)\n",
    "y_test_scaled = y_scaler.transform(y_test)"
   ]
  },
  {
   "cell_type": "code",
   "execution_count": 40,
   "metadata": {},
   "outputs": [
    {
     "data": {
      "text/plain": [
       "['../../data/y_scaler.bin']"
      ]
     },
     "execution_count": 40,
     "metadata": {},
     "output_type": "execute_result"
    }
   ],
   "source": [
    "# save the X and y scalers for later use\n",
    "# https://stackoverflow.com/questions/53152627/saving-standardscaler-model-for-use-on-new-datasets\n",
    "dump(X_scaler, \"../../data/X_scaler.bin\", compress=True)\n",
    "dump(y_scaler, \"../../data/y_scaler.bin\", compress=True)"
   ]
  },
  {
   "cell_type": "code",
   "execution_count": 41,
   "metadata": {},
   "outputs": [],
   "source": [
    "def create_model(hp):\n",
    "    # create model\n",
    "    nn = tf.keras.models.Sequential()\n",
    "\n",
    "    # create list containing different activation functions\n",
    "    activation = hp.Choice(\"activation\", [\"relu\", \"tanh\"])\n",
    "\n",
    "    # add first layer\n",
    "    nn.add(tf.keras.layers.Dense(units=hp.Int(\"first_units\",\n",
    "                                              min_value=16,\n",
    "                                              max_value=256,\n",
    "                                              step=32),\n",
    "                                              activation=activation,\n",
    "                                              input_dim=len(X.columns)))\n",
    "    \n",
    "    # add random amount of hidden layers\n",
    "    for i in range(hp.Int(\"num_layers\", 1, 3)):\n",
    "        nn.add(tf.keras.layers.Dense(units=hp.Int(\"units_\" + str(i),\n",
    "                                                  min_value=16,\n",
    "                                                  max_value=128,\n",
    "                                                  step=16),\n",
    "                                                  activation=activation))\n",
    "        \n",
    "    # add output layer\n",
    "    nn.add(tf.keras.layers.Dense(units=1))\n",
    "\n",
    "    # compile model\n",
    "    nn.compile(loss=\"mean_absolute_error\", optimizer=\"adam\")\n",
    "\n",
    "    # return model\n",
    "    return nn"
   ]
  },
  {
   "cell_type": "code",
   "execution_count": 42,
   "metadata": {},
   "outputs": [
    {
     "name": "stdout",
     "output_type": "stream",
     "text": [
      "Reloading Tuner from .\\smart_model_history\\tuner0.json\n"
     ]
    }
   ],
   "source": [
    "# create tuner\n",
    "tuner = kt.Hyperband(\n",
    "    create_model,\n",
    "    objective=\"val_loss\",\n",
    "    max_epochs=100,\n",
    "    project_name=\"smart_model_history\"\n",
    ")\n",
    "\n",
    "# run tuner\n",
    "tuner.search(X_train_scaled, y_train_scaled, epochs=100, validation_data=(X_test_scaled, y_test_scaled))"
   ]
  },
  {
   "cell_type": "code",
   "execution_count": 43,
   "metadata": {},
   "outputs": [
    {
     "name": "stdout",
     "output_type": "stream",
     "text": [
      "WARNING:tensorflow:From c:\\Users\\Paul\\anaconda3\\envs\\dev\\lib\\site-packages\\keras\\src\\backend\\common\\global_state.py:82: The name tf.reset_default_graph is deprecated. Please use tf.compat.v1.reset_default_graph instead.\n",
      "\n"
     ]
    },
    {
     "name": "stderr",
     "output_type": "stream",
     "text": [
      "c:\\Users\\Paul\\anaconda3\\envs\\dev\\lib\\site-packages\\keras\\src\\layers\\core\\dense.py:87: UserWarning: Do not pass an `input_shape`/`input_dim` argument to a layer. When using Sequential models, prefer using an `Input(shape)` object as the first layer in the model instead.\n",
      "  super().__init__(activity_regularizer=activity_regularizer, **kwargs)\n",
      "c:\\Users\\Paul\\anaconda3\\envs\\dev\\lib\\site-packages\\keras\\src\\saving\\saving_lib.py:719: UserWarning: Skipping variable loading for optimizer 'adam', because it has 2 variables whereas the saved optimizer has 22 variables. \n",
      "  saveable.load_own_variables(weights_store.get(inner_path))\n"
     ]
    }
   ],
   "source": [
    "# get the best model\n",
    "nn = tuner.get_best_models(1)[0]"
   ]
  },
  {
   "cell_type": "code",
   "execution_count": 44,
   "metadata": {},
   "outputs": [
    {
     "name": "stdout",
     "output_type": "stream",
     "text": [
      "\u001b[1m133/133\u001b[0m \u001b[32m━━━━━━━━━━━━━━━━━━━━\u001b[0m\u001b[37m\u001b[0m \u001b[1m0s\u001b[0m 811us/step\n"
     ]
    }
   ],
   "source": [
    "# make predictions using test data\n",
    "predictions = nn.predict(X_test_scaled)"
   ]
  },
  {
   "cell_type": "code",
   "execution_count": 45,
   "metadata": {},
   "outputs": [
    {
     "name": "stdout",
     "output_type": "stream",
     "text": [
      "Mean Absolute Error: 0.13379299778849854\n",
      "Mean Squared Error: 0.09908105777366513\n",
      "R^2: 0.8829478385867243\n"
     ]
    }
   ],
   "source": [
    "# evaluate the model using test data\n",
    "mean_abs_err = mean_absolute_error(y_test_scaled, predictions)\n",
    "mean_sq_err = mean_squared_error(y_test_scaled, predictions)\n",
    "r2 = r2_score(y_test_scaled, predictions)\n",
    "\n",
    "print(f\"Mean Absolute Error: {mean_abs_err}\\nMean Squared Error: {mean_sq_err}\\nR^2: {r2}\")"
   ]
  },
  {
   "cell_type": "code",
   "execution_count": 46,
   "metadata": {},
   "outputs": [
    {
     "name": "stdout",
     "output_type": "stream",
     "text": [
      "\u001b[1m1/1\u001b[0m \u001b[32m━━━━━━━━━━━━━━━━━━━━\u001b[0m\u001b[37m\u001b[0m \u001b[1m0s\u001b[0m 18ms/step\n",
      "Prediction: 18565.06640625\n",
      "Actual: 18817.0\n"
     ]
    }
   ],
   "source": [
    "# predict the first test value using model\n",
    "y_pred_scaled = nn.predict(X_test_scaled[0].reshape(1, -1))\n",
    "y_pred_original = y_scaler.inverse_transform(y_pred_scaled)\n",
    "print(f\"Prediction: {y_pred_original[0][0]}\")\n",
    "\n",
    "# actual first test value\n",
    "y_test_original = y_scaler.inverse_transform(y_test_scaled[0].reshape(1, -1))\n",
    "print(f\"Actual: {y_test_original[0][0]}\")"
   ]
  },
  {
   "cell_type": "code",
   "execution_count": 47,
   "metadata": {},
   "outputs": [],
   "source": [
    "# save the model\n",
    "nn.save(\"smart_model.keras\")"
   ]
  },
  {
   "cell_type": "code",
   "execution_count": 48,
   "metadata": {},
   "outputs": [
    {
     "data": {
      "text/plain": [
       "{'name': 'sequential',\n",
       " 'trainable': True,\n",
       " 'dtype': {'module': 'keras',\n",
       "  'class_name': 'DTypePolicy',\n",
       "  'config': {'name': 'float32'},\n",
       "  'registered_name': None},\n",
       " 'layers': [{'module': 'keras.layers',\n",
       "   'class_name': 'InputLayer',\n",
       "   'config': {'batch_shape': (None, 63),\n",
       "    'dtype': 'float32',\n",
       "    'sparse': False,\n",
       "    'name': 'input_layer'},\n",
       "   'registered_name': None},\n",
       "  {'module': 'keras.layers',\n",
       "   'class_name': 'Dense',\n",
       "   'config': {'name': 'dense',\n",
       "    'trainable': True,\n",
       "    'dtype': {'module': 'keras',\n",
       "     'class_name': 'DTypePolicy',\n",
       "     'config': {'name': 'float32'},\n",
       "     'registered_name': None},\n",
       "    'units': 240,\n",
       "    'activation': 'relu',\n",
       "    'use_bias': True,\n",
       "    'kernel_initializer': {'module': 'keras.initializers',\n",
       "     'class_name': 'GlorotUniform',\n",
       "     'config': {'seed': None},\n",
       "     'registered_name': None},\n",
       "    'bias_initializer': {'module': 'keras.initializers',\n",
       "     'class_name': 'Zeros',\n",
       "     'config': {},\n",
       "     'registered_name': None},\n",
       "    'kernel_regularizer': None,\n",
       "    'bias_regularizer': None,\n",
       "    'kernel_constraint': None,\n",
       "    'bias_constraint': None},\n",
       "   'registered_name': None,\n",
       "   'build_config': {'input_shape': (None, 63)}},\n",
       "  {'module': 'keras.layers',\n",
       "   'class_name': 'Dense',\n",
       "   'config': {'name': 'dense_1',\n",
       "    'trainable': True,\n",
       "    'dtype': {'module': 'keras',\n",
       "     'class_name': 'DTypePolicy',\n",
       "     'config': {'name': 'float32'},\n",
       "     'registered_name': None},\n",
       "    'units': 128,\n",
       "    'activation': 'relu',\n",
       "    'use_bias': True,\n",
       "    'kernel_initializer': {'module': 'keras.initializers',\n",
       "     'class_name': 'GlorotUniform',\n",
       "     'config': {'seed': None},\n",
       "     'registered_name': None},\n",
       "    'bias_initializer': {'module': 'keras.initializers',\n",
       "     'class_name': 'Zeros',\n",
       "     'config': {},\n",
       "     'registered_name': None},\n",
       "    'kernel_regularizer': None,\n",
       "    'bias_regularizer': None,\n",
       "    'kernel_constraint': None,\n",
       "    'bias_constraint': None},\n",
       "   'registered_name': None,\n",
       "   'build_config': {'input_shape': (None, 240)}},\n",
       "  {'module': 'keras.layers',\n",
       "   'class_name': 'Dense',\n",
       "   'config': {'name': 'dense_2',\n",
       "    'trainable': True,\n",
       "    'dtype': {'module': 'keras',\n",
       "     'class_name': 'DTypePolicy',\n",
       "     'config': {'name': 'float32'},\n",
       "     'registered_name': None},\n",
       "    'units': 48,\n",
       "    'activation': 'relu',\n",
       "    'use_bias': True,\n",
       "    'kernel_initializer': {'module': 'keras.initializers',\n",
       "     'class_name': 'GlorotUniform',\n",
       "     'config': {'seed': None},\n",
       "     'registered_name': None},\n",
       "    'bias_initializer': {'module': 'keras.initializers',\n",
       "     'class_name': 'Zeros',\n",
       "     'config': {},\n",
       "     'registered_name': None},\n",
       "    'kernel_regularizer': None,\n",
       "    'bias_regularizer': None,\n",
       "    'kernel_constraint': None,\n",
       "    'bias_constraint': None},\n",
       "   'registered_name': None,\n",
       "   'build_config': {'input_shape': (None, 128)}},\n",
       "  {'module': 'keras.layers',\n",
       "   'class_name': 'Dense',\n",
       "   'config': {'name': 'dense_3',\n",
       "    'trainable': True,\n",
       "    'dtype': {'module': 'keras',\n",
       "     'class_name': 'DTypePolicy',\n",
       "     'config': {'name': 'float32'},\n",
       "     'registered_name': None},\n",
       "    'units': 80,\n",
       "    'activation': 'relu',\n",
       "    'use_bias': True,\n",
       "    'kernel_initializer': {'module': 'keras.initializers',\n",
       "     'class_name': 'GlorotUniform',\n",
       "     'config': {'seed': None},\n",
       "     'registered_name': None},\n",
       "    'bias_initializer': {'module': 'keras.initializers',\n",
       "     'class_name': 'Zeros',\n",
       "     'config': {},\n",
       "     'registered_name': None},\n",
       "    'kernel_regularizer': None,\n",
       "    'bias_regularizer': None,\n",
       "    'kernel_constraint': None,\n",
       "    'bias_constraint': None},\n",
       "   'registered_name': None,\n",
       "   'build_config': {'input_shape': (None, 48)}},\n",
       "  {'module': 'keras.layers',\n",
       "   'class_name': 'Dense',\n",
       "   'config': {'name': 'dense_4',\n",
       "    'trainable': True,\n",
       "    'dtype': {'module': 'keras',\n",
       "     'class_name': 'DTypePolicy',\n",
       "     'config': {'name': 'float32'},\n",
       "     'registered_name': None},\n",
       "    'units': 1,\n",
       "    'activation': 'linear',\n",
       "    'use_bias': True,\n",
       "    'kernel_initializer': {'module': 'keras.initializers',\n",
       "     'class_name': 'GlorotUniform',\n",
       "     'config': {'seed': None},\n",
       "     'registered_name': None},\n",
       "    'bias_initializer': {'module': 'keras.initializers',\n",
       "     'class_name': 'Zeros',\n",
       "     'config': {},\n",
       "     'registered_name': None},\n",
       "    'kernel_regularizer': None,\n",
       "    'bias_regularizer': None,\n",
       "    'kernel_constraint': None,\n",
       "    'bias_constraint': None},\n",
       "   'registered_name': None,\n",
       "   'build_config': {'input_shape': (None, 80)}}],\n",
       " 'build_input_shape': (None, 63)}"
      ]
     },
     "execution_count": 48,
     "metadata": {},
     "output_type": "execute_result"
    }
   ],
   "source": [
    "nn.get_config()"
   ]
  }
 ],
 "metadata": {
  "kernelspec": {
   "display_name": "dev",
   "language": "python",
   "name": "python3"
  },
  "language_info": {
   "codemirror_mode": {
    "name": "ipython",
    "version": 3
   },
   "file_extension": ".py",
   "mimetype": "text/x-python",
   "name": "python",
   "nbconvert_exporter": "python",
   "pygments_lexer": "ipython3",
   "version": "3.10.14"
  }
 },
 "nbformat": 4,
 "nbformat_minor": 2
}
